{
 "cells": [
  {
   "cell_type": "markdown",
   "metadata": {},
   "source": [
    "# OOP 6: UML Class Diagrams and Their Applications for Planning OOP\n",
    "\n",
    "In this notebook, we'll explore UML (Unified Modeling Language) class diagrams and how they can be used to plan Object-Oriented Programming (OOP) in Python. We'll use Mermaid for Markdown to visualize these diagrams.\n",
    "\n",
    "## Extensions for UML Diagrams\n",
    "\n",
    "- [Enable Mermaid VSCode](https://marketplace.visualstudio.com/items?itemName=bierner.markdown-mermaid)\n",
    "- [Enable Mermaid PyCharm](https://www.jetbrains.com/help/pycharm/markdown.html#enable-mermaid)\n",
    "\n",
    "## Table of Contents\n",
    "1. [Introduction to UML Class Diagrams](#1)\n",
    "2. [Basic Components of a UML Class Diagram](#2)\n",
    "3. [Example: Modeling a Data Science Workflow](#3)\n",
    "4. [Creating UML Diagrams with Mermaid](#4)\n",
    "5. [From UML to Python Code](#5)"
   ]
  },
  {
   "cell_type": "markdown",
   "metadata": {},
   "source": [
    "---\n",
    "## 1. Introduction to UML Class Diagrams <a id=\"1\"></a>"
   ]
  },
  {
   "cell_type": "markdown",
   "metadata": {},
   "source": [
    "UML class diagrams are a way to visualize the structure of a system by showing its classes, attributes, methods, and the relationships between the classes. They are useful for planning and designing an OOP system before coding."
   ]
  },
  {
   "cell_type": "markdown",
   "metadata": {},
   "source": [
    "---\n",
    "## 2. Basic Components of a UML Class Diagram <a id=\"2\"></a>"
   ]
  },
  {
   "cell_type": "markdown",
   "metadata": {},
   "source": [
    "\n",
    "### Class Representation\n",
    "- **Class Name**: The name of the class.\n",
    "- **Attributes**: Variables within the class.\n",
    "- **Methods**: Functions within the class.\n",
    "\n",
    "### Relationships\n",
    "- **Association**: A general connection between classes.\n",
    "- **Inheritance**: A hierarchical relationship where one class inherits from another.\n",
    "- **Aggregation**: A whole-part relationship where the part can exist independently.\n",
    "- **Composition**: A whole-part relationship where the part cannot exist independently."
   ]
  },
  {
   "cell_type": "markdown",
   "metadata": {},
   "source": [
    "```mermaid\n",
    "classDiagram\n",
    "    class Teacher {\n",
    "        +String name\n",
    "    }\n",
    "    class Student {\n",
    "        +String name\n",
    "    }\n",
    "    class Animal {\n",
    "        +String name\n",
    "        +int age\n",
    "        +makeSound()\n",
    "    }\n",
    "    class Dog {\n",
    "        +String breed\n",
    "    }\n",
    "    class Library {\n",
    "        +String name\n",
    "        +addBook(Book book)\n",
    "    }\n",
    "    class Book {\n",
    "        +String title\n",
    "        +String author\n",
    "    }\n",
    "    \n",
    "    class House {\n",
    "        +String address\n",
    "        + addRoom(String roomName)\n",
    "    }\n",
    "    class Room {\n",
    "        +String name\n",
    "    }\n",
    "\n",
    "    Teacher --> Student : association\n",
    "    Animal <|-- Dog : inheritance\n",
    "    Library o-- Book : aggregation\n",
    "    House *-- Room : composition\n",
    "```"
   ]
  },
  {
   "cell_type": "markdown",
   "metadata": {},
   "source": [
    "**Association**:\n",
    "- Classes: `Teacher` and `Student`\n",
    "- Relationship: Teachers can teach students, and students can be taught by teachers.\n",
    "- Diagram representation: Teacher --> Student : association\n",
    "\n",
    "**Inheritance**:\n",
    "- Classes: `Animal` and `Dog`\n",
    "- Relationship: Dog **is a** type of Animal.\n",
    "- Diagram representation: Animal <|-- Dog : inheritance\n",
    "\n",
    "**Aggregation**:\n",
    "- Classes: `Library` and `Book`\n",
    "- Relationship: A library contains books, but books can exist independently.\n",
    "- Diagram representation: Library o-- Book : aggregation\n",
    "\n",
    "**Composition**:\n",
    "- Classes: `House` and `Room`\n",
    "- Relationship: A house is composed of rooms, and rooms cannot exist independently.\n",
    "- Diagram representation: House *-- Room : composition"
   ]
  },
  {
   "cell_type": "markdown",
   "metadata": {},
   "source": [
    "### Example Diagram\n",
    "```mermaid\n",
    "classDiagram\n",
    "    class Person {\n",
    "        +String name\n",
    "        +int age\n",
    "        +greet()\n",
    "    }\n",
    "    class DataScientist {\n",
    "        +String name\n",
    "        +String expertiseLevel\n",
    "        +addSkill(String skill)\n",
    "    }\n",
    "    Person <|-- DataScientist\n",
    "```"
   ]
  },
  {
   "cell_type": "markdown",
   "metadata": {},
   "source": [
    "---\n",
    "## 3. Example: Modeling a Data Science Workflow <a id=\"3\"></a>"
   ]
  },
  {
   "cell_type": "markdown",
   "metadata": {},
   "source": [
    "Let's model a simple data science workflow with classes for `DataScientist`, `Dataset`, and `Model`.\n",
    "\n",
    "### UML Class Diagram\n",
    "```mermaid\n",
    "classDiagram\n",
    "    class DataScientist {\n",
    "        +String name\n",
    "        +String expertiseLevel\n",
    "        +addSkill(String skill)\n",
    "        +analyzeDataset(Dataset dataset)\n",
    "    }\n",
    "    class Dataset {\n",
    "        +String name\n",
    "        +DataFrame data\n",
    "        +loadData(String filepath)\n",
    "        +summaryStatistics()\n",
    "    }\n",
    "    class Model {\n",
    "        +String modelName\n",
    "        +train(Dataset dataset)\n",
    "        +predict(DataFrame newData)\n",
    "    }\n",
    "    DataScientist --> Dataset : uses\n",
    "    DataScientist --> Model : builds\n",
    "    Model --> Dataset : uses\n",
    "```"
   ]
  },
  {
   "cell_type": "markdown",
   "metadata": {},
   "source": [
    "---\n",
    "## 4. Creating UML Diagrams with Mermaid <a id=\"4\"></a>"
   ]
  },
  {
   "cell_type": "markdown",
   "metadata": {},
   "source": [
    "Mermaid is a JavaScript-based diagramming tool that integrates well with Markdown. Here's how to use Mermaid to create UML class diagrams in a Jupyter notebook.\n",
    "\n",
    "### Syntax\n",
    "```markdown\n",
    "```mermaid\n",
    "classDiagram\n",
    "    class ClassName {\n",
    "        +AttributeType attributeName\n",
    "        +returnType methodName()\n",
    "    }\n",
    "    ClassName1 <|-- ClassName2 : Inheritance\n",
    "    ClassName1 --> ClassName3 : Association\n",
    "```\n",
    "\n",
    "### Example Diagram\n",
    "```mermaid\n",
    "classDiagram\n",
    "    class DataScientist {\n",
    "        +String name\n",
    "        +String expertiseLevel\n",
    "        +addSkill(String skill)\n",
    "        +analyzeDataset(Dataset dataset)\n",
    "    }\n",
    "    class Dataset {\n",
    "        +String name\n",
    "        +DataFrame data\n",
    "        +loadData(String filepath)\n",
    "        +summaryStatistics()\n",
    "    }\n",
    "    class Model {\n",
    "        +String modelName\n",
    "        +train(Dataset dataset)\n",
    "        +predict(DataFrame newData)\n",
    "    }\n",
    "    DataScientist --> Dataset : uses\n",
    "    DataScientist --> Model : builds\n",
    "    Model --> Dataset : uses"
   ]
  },
  {
   "cell_type": "markdown",
   "metadata": {},
   "source": [
    "---\n",
    "## 5. From UML to Python Code <a id=\"5\"></a>\n",
    "\n",
    "Let's translate our UML class diagram into Python code. This helps ensure that the design is implemented as planned."
   ]
  },
  {
   "cell_type": "code",
   "execution_count": null,
   "metadata": {},
   "outputs": [],
   "source": [
    "import pandas as pd\n",
    "\n",
    "class Dataset:\n",
    "    def __init__(self, name):\n",
    "        self.name = name\n",
    "        self.data = pd.DataFrame()\n",
    "\n",
    "    def load_data(self, filepath):\n",
    "        self.data = pd.read_csv(filepath)\n",
    "\n",
    "    def summary_statistics(self):\n",
    "        return self.data.describe()\n",
    "\n",
    "class Model:\n",
    "    def __init__(self, model_name):\n",
    "        self.model_name = model_name\n",
    "\n",
    "    def train(self, dataset):\n",
    "        print(f\"Training model {self.model_name} on dataset {dataset.name}\")\n",
    "\n",
    "    def predict(self, new_data):\n",
    "        print(f\"Predicting with model {self.model_name}\")\n",
    "        return [0] * len(new_data)  # Dummy prediction\n",
    "\n",
    "class DataScientist:\n",
    "    def __init__(self, name, expertise_level):\n",
    "        self.name = name\n",
    "        self.expertise_level = expertise_level\n",
    "        self.skills = []\n",
    "\n",
    "    def add_skill(self, skill):\n",
    "        self.skills.append(skill)\n",
    "\n",
    "    def analyze_dataset(self, dataset):\n",
    "        print(f\"Analyzing dataset {dataset.name}\")\n",
    "        print(dataset.summary_statistics())\n",
    "\n",
    "# Example usage\n",
    "dataset = Dataset(\"Sample Data\")\n",
    "dataset.load_data(\"sample.csv\")\n",
    "\n",
    "model = Model(\"Linear Regression\")\n",
    "\n",
    "ds = DataScientist(\"Alice\", \"Senior\")\n",
    "ds.add_skill(\"Machine Learning\")\n",
    "ds.analyze_dataset(dataset)\n",
    "model.train(dataset)\n",
    "predictions = model.predict(dataset.data)\n",
    "print(predictions)"
   ]
  },
  {
   "cell_type": "markdown",
   "metadata": {},
   "source": [
    "### Explanation\n",
    "\n",
    "- **Dataset Class**: Represents a dataset with methods to load data and compute summary statistics.\n",
    "- **Model Class**: Represents a machine learning model with methods to train and predict.\n",
    "- **DataScientist Class**: Represents a data scientist with methods to add skills and analyze datasets."
   ]
  }
 ],
 "metadata": {
  "kernelspec": {
   "display_name": ".venv",
   "language": "python",
   "name": "python3"
  },
  "language_info": {
   "codemirror_mode": {
    "name": "ipython",
    "version": 3
   },
   "file_extension": ".py",
   "mimetype": "text/x-python",
   "name": "python",
   "nbconvert_exporter": "python",
   "pygments_lexer": "ipython3",
   "version": "3.11.4"
  }
 },
 "nbformat": 4,
 "nbformat_minor": 2
}
