{
 "cells": [
  {
   "cell_type": "markdown",
   "id": "37086f73",
   "metadata": {},
   "source": [
    "# Refactoring Example - Step 2: Packing in a class"
   ]
  },
  {
   "cell_type": "markdown",
   "id": "1f60e7e3",
   "metadata": {},
   "source": [
    "```mermaid\n",
    "flowchart TD\n",
    "    A[Start Pipeline] --> B[Load Data]\n",
    "    B --> C[Validate Schema]\n",
    "\n",
    "    C --> D[Clean Data]\n",
    "    \n",
    "    D --> F[Transform Data]\n",
    "    \n",
    "    F --> G[Write to Database]\n",
    "\n",
    "    G --> H[End Pipeline]\n",
    "```"
   ]
  },
  {
   "cell_type": "code",
   "execution_count": null,
   "id": "952545db",
   "metadata": {
    "vscode": {
     "languageId": "plaintext"
    }
   },
   "outputs": [],
   "source": [
    "import pandas as pd\n",
    "import sqlite3\n",
    "\n",
    "class DataCleaningPipeline:\n",
    "    def __init__(self, input_path=\"data/customers.csv\", db_path=\"data/cleaned_customers.db\"):\n",
    "        self.input_path = input_path\n",
    "        self.db_path = db_path\n",
    "        self.df = pd.DataFrame()\n",
    "\n",
    "    def load_data(self):\n",
    "        self.df = pd.read_csv(self.input_path)\n",
    "        print(\"Data loaded successfully.\")\n",
    "\n",
    "    def validate_columns(self):\n",
    "        if not all(col in self.df.columns for col in [\"id\", \"name\", \"email\", \"signup_date\"]):\n",
    "            print(\"Missing some columns...\")\n",
    "\n",
    "    def clean_data(self):\n",
    "        self.df[\"email\"] = self.df[\"email\"].str.lower()\n",
    "        self.df[\"signup_date\"] = pd.to_datetime(self.df[\"signup_date\"])\n",
    "        self.df = self.df.dropna(subset=[\"id\", \"email\"])\n",
    "        print(\"Cleaning done.\")\n",
    "\n",
    "    def transform_data(self):\n",
    "        self.df[\"days_since_signup\"] = (pd.Timestamp.now() - self.df[\"signup_date\"]).dt.days\n",
    "\n",
    "    def save_to_database(self):\n",
    "        conn = sqlite3.connect(self.db_path)\n",
    "        self.df.to_sql(\"customers\", conn, if_exists=\"replace\", index=False)\n",
    "        conn.close()\n",
    "        print(\"Data written to database.\")\n",
    "\n",
    "    def run(self):\n",
    "        print(\"Starting data cleaning pipeline...\")\n",
    "        self.load_data()\n",
    "        self.validate_columns()\n",
    "        self.clean_data()\n",
    "        self.transform_data()\n",
    "        self.save_to_database()\n",
    "        print(\"Pipeline finished.\")"
   ]
  }
 ],
 "metadata": {
  "language_info": {
   "name": "python"
  }
 },
 "nbformat": 4,
 "nbformat_minor": 5
}
