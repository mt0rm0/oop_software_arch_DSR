{
 "cells": [
  {
   "cell_type": "markdown",
   "metadata": {},
   "source": [
    "# OOP 4: Docstrings in Python Classes\n",
    "\n",
    "In this notebook, we'll explore how to use docstrings in Python classes to document your code effectively. We'll look at how to document classes, methods, and attributes with docstrings, following best practices.\n",
    "\n",
    "## Table of Contents\n",
    "1. [Introduction to Docstrings](#1)\n",
    "2. [Class Docstrings](#2)\n",
    "3. [Method Docstrings](#3)\n",
    "4. [Attribute Docstrings](#4)\n",
    "5. [Best Practices for Writing Docstrings](#5)\n",
    "6. [Exercise: Documenting a Data Analysis Class](#6)"
   ]
  },
  {
   "cell_type": "markdown",
   "metadata": {},
   "source": [
    "---\n",
    "## 1. Introduction to Docstrings <a id=\"1\"></a>\n",
    "\n",
    "Docstrings are a special type of string used to document modules, classes, methods, and functions in Python. They help other developers understand the purpose and usage of your code.\n",
    "\n",
    "**Example**"
   ]
  },
  {
   "cell_type": "code",
   "execution_count": 2,
   "metadata": {},
   "outputs": [],
   "source": [
    "def add(a, b):\n",
    "    \"\"\"\n",
    "    Adds two numbers.\n",
    "\n",
    "    Parameters:\n",
    "    a (int, float): The first number.\n",
    "    b (int, float): The second number.\n",
    "\n",
    "    Returns:\n",
    "    int, float: The sum of the two numbers.\n",
    "    \"\"\"\n",
    "    return a + b"
   ]
  },
  {
   "cell_type": "code",
   "execution_count": null,
   "metadata": {},
   "outputs": [],
   "source": [
    "import pandas as pd\n",
    "\n",
    "pd.DataFrame"
   ]
  },
  {
   "cell_type": "markdown",
   "metadata": {},
   "source": [
    "---\n",
    "## 2. Class Docstrings <a id=\"2\"></a>\n",
    "\n",
    "Class docstrings should provide a brief overview of the class, its purpose, and any important details.\n",
    "\n",
    "**Example**"
   ]
  },
  {
   "cell_type": "code",
   "execution_count": null,
   "metadata": {},
   "outputs": [],
   "source": [
    "class DataScientist:\n",
    "    \"\"\"\n",
    "    Represents a data scientist with a name and expertise level.\n",
    "\n",
    "    Attributes:\n",
    "    name (str): The name of the data scientist.\n",
    "    expertise_level (str): The expertise level of the data scientist.\n",
    "    \"\"\"\n",
    "\n",
    "    def __init__(self, name, expertise_level):\n",
    "        self.name = name\n",
    "        self.expertise_level = expertise_level"
   ]
  },
  {
   "cell_type": "markdown",
   "metadata": {},
   "source": [
    "---\n",
    "## 3. Method Docstrings <a id=\"3\"></a>\n",
    "\n",
    "Method docstrings should describe what the method does, its parameters, and its return value.\n",
    "\n",
    "**Example**"
   ]
  },
  {
   "cell_type": "code",
   "execution_count": null,
   "metadata": {},
   "outputs": [],
   "source": [
    "class DataScientist:\n",
    "    \"\"\"\n",
    "    Represents a data scientist with a name and expertise level.\n",
    "\n",
    "    Attributes:\n",
    "    name (str): The name of the data scientist.\n",
    "    expertise_level (str): The expertise level of the data scientist.\n",
    "    \"\"\"\n",
    "\n",
    "    def __init__(self, name, expertise_level):\n",
    "        \"\"\"\n",
    "        Initializes a DataScientist object with a name and expertise level.\n",
    "\n",
    "        Parameters:\n",
    "        name (str): The name of the data scientist.\n",
    "        expertise_level (str): The expertise level of the data scientist.\n",
    "        \"\"\"\n",
    "        self.name = name\n",
    "        self.expertise_level = expertise_level\n",
    "    \n",
    "    def analyze_data(self, data):\n",
    "        \"\"\"\n",
    "        Analyzes the provided data.\n",
    "\n",
    "        Parameters:\n",
    "        data (list): A list of numerical data.\n",
    "\n",
    "        Returns:\n",
    "        dict: A dictionary containing the mean and median of the data.\n",
    "        \"\"\"\n",
    "        import statistics\n",
    "        return {\n",
    "            'mean': statistics.mean(data),\n",
    "            'median': statistics.median(data)\n",
    "        }"
   ]
  },
  {
   "cell_type": "markdown",
   "metadata": {},
   "source": [
    "---\n",
    "## 4. Attribute Docstrings <a id=\"4\"></a>\n",
    "\n",
    "While not common, you can document attributes directly within the class docstring.\n",
    "\n",
    "**Example**"
   ]
  },
  {
   "cell_type": "code",
   "execution_count": null,
   "metadata": {},
   "outputs": [],
   "source": [
    "class DataScientist:\n",
    "    \"\"\"\n",
    "    Represents a data scientist with a name and expertise level.\n",
    "\n",
    "    Attributes:\n",
    "    name (str): The name of the data scientist.\n",
    "    expertise_level (str): The expertise level of the data scientist.\n",
    "    \"\"\"\n",
    "    \n",
    "    def __init__(self, name, expertise_level):\n",
    "        \"\"\"\n",
    "        Initializes a DataScientist object with a name and expertise level.\n",
    "\n",
    "        Parameters:\n",
    "        name (str): The name of the data scientist.\n",
    "        expertise_level (str): The expertise level of the data scientist.\n",
    "        \"\"\"\n",
    "        self.name = name \n",
    "        self.expertise_level = expertise_level"
   ]
  },
  {
   "cell_type": "markdown",
   "metadata": {},
   "source": [
    "---\n",
    "## 5. Best Practices for Writing Docstrings <a id=\"5\"></a>\n",
    "- **Clarity**: Write docstrings that are easy to understand.\n",
    "\n",
    "- **Grammar**: Ensure your docstrings are well-written.\n",
    "\n",
    "- **Consistency**: Use the same format for all docstrings in your project.\n",
    "\n",
    "- **Details**: Document parameters, return values, and any important details about the class or method.\n",
    "\n",
    "- **Quotes**: Use triple quotes (\"\"\") for writing docstrings in Python.\n",
    "\n",
    "Some popular Docstring formats that are used (Google, NumPy, etc.) can be found [here](https://joshdimella.com/blog/python-docstring-formats-best-practices)"
   ]
  },
  {
   "cell_type": "markdown",
   "metadata": {},
   "source": [
    "---\n",
    "## 6. Exercise: Documenting a Data Analysis Class <a id=\"6\"></a>\n",
    "\n",
    "Create and document a `DataAnalysis` class that performs basic data analysis operations. The class should have the following methods:\n",
    "\n",
    "- `__init__(self, data)`: Initializes the `DataAnalysis` object with a dictionary of data.\n",
    "- `summary(self)`: Returns a summary of the data, including the number of rows and columns.\n",
    "- `mean(self, column)`: Returns the mean of a specified column.\n",
    "- `median(self, column)`: Returns the median of a specified column."
   ]
  },
  {
   "cell_type": "code",
   "execution_count": null,
   "metadata": {},
   "outputs": [],
   "source": [
    "# your class definition here"
   ]
  },
  {
   "cell_type": "markdown",
   "metadata": {},
   "source": [
    "><details>\n",
    "><summary>Do you need some help?</summary>\n",
    "> \n",
    "> Here is a working solution:\n",
    ">\n",
    ">```python\n",
    ">import pandas as pd\n",
    ">import statistics\n",
    ">\n",
    ">class DataAnalysis:\n",
    ">    \"\"\"\n",
    ">    Performs basic data analysis operations on a given dataset.\n",
    ">\n",
    ">    Attributes:\n",
    ">    data (dict): A dictionary of data where keys are column names and values are lists of data.\n",
    ">    _df (DataFrame): A pandas DataFrame created from the data dictionary.\n",
    ">    \"\"\"\n",
    ">\n",
    ">    def __init__(self, data):\n",
    ">        \"\"\"\n",
    ">        Initializes the DataAnalysis object with a dictionary of data.\n",
    ">\n",
    ">        Parameters:\n",
    ">        data (dict): A dictionary of data where keys are column names and values are lists of data.\n",
    ">        \"\"\"\n",
    ">        self.data = data\n",
    ">        self._df = pd.DataFrame(data)\n",
    ">    \n",
    ">    def summary(self):\n",
    ">        \"\"\"\n",
    ">        Returns a summary of the data, including the number of rows and columns.\n",
    ">\n",
    ">        Returns:\n",
    ">        str: A string summarizing the number of rows and columns in the dataset.\n",
    ">        \"\"\"\n",
    ">        return f\"Dataset with {len(self._df)} rows and {len(self._df.columns)} columns\"\n",
    ">    \n",
    ">    def mean(self, column):\n",
    ">        \"\"\"\n",
    ">        Returns the mean of a specified column.\n",
    ">\n",
    ">        Parameters:\n",
    ">        column (str): The column for which to calculate the mean.\n",
    ">\n",
    ">        Returns:\n",
    ">        float: The mean of the specified column.\n",
    ">        \"\"\"\n",
    ">        return self._df[column].mean()\n",
    ">    \n",
    ">    def median(self, column):\n",
    ">        \"\"\"\n",
    ">        Returns the median of a specified column.\n",
    ">\n",
    ">        Parameters:\n",
    ">        column (str): The column for which to calculate the median.\n",
    ">\n",
    ">        Returns:\n",
    ">        float: The median of the specified column.\n",
    ">        \"\"\"\n",
    ">        return statistics.median(self._df[column])\n",
    "> ```\n",
    "> </details>\n",
    "\n",
    "Try now if your code worked as expected. Run the following cell:"
   ]
  },
  {
   "cell_type": "code",
   "execution_count": null,
   "metadata": {},
   "outputs": [],
   "source": [
    "data = {\n",
    "    'age': [25, 30, 35, 40, 45],\n",
    "    'salary': [50000, 60000, 70000, 80000, 90000]\n",
    "}\n",
    "analysis = DataAnalysis(data)\n",
    "print(analysis.summary())\n",
    "print(analysis.mean('age'))\n",
    "print(analysis.median('salary'))"
   ]
  }
 ],
 "metadata": {
  "kernelspec": {
   "display_name": "oop-software-arch-dsr",
   "language": "python",
   "name": "python3"
  },
  "language_info": {
   "codemirror_mode": {
    "name": "ipython",
    "version": 3
   },
   "file_extension": ".py",
   "mimetype": "text/x-python",
   "name": "python",
   "nbconvert_exporter": "python",
   "pygments_lexer": "ipython3",
   "version": "3.13.2"
  }
 },
 "nbformat": 4,
 "nbformat_minor": 2
}
