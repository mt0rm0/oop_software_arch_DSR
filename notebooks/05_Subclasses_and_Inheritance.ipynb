{
 "cells": [
  {
   "cell_type": "markdown",
   "metadata": {},
   "source": [
    "# OOP 5: Subclasses and Inheritance in Python\n",
    "\n",
    "In this notebook, we'll explore subclasses and inheritance in Python. We'll look at how to define subclasses, how inheritance works, and how to override methods and use the super() function.\n",
    "\n",
    "## Table of Contents\n",
    "\n",
    "1. [Introduction to Inheritance](#1)\n",
    "2. [Defining Subclasses](#2)\n",
    "3. [Overriding Methods](#3)\n",
    "4. [Using the super() Function](#4)\n",
    "5. [Step-by-Step Example](#5)\n",
    "6. [Exercise: Extending a Data Analysis Class](#6)"
   ]
  },
  {
   "cell_type": "markdown",
   "metadata": {},
   "source": [
    "---\n",
    "## 1. Introduction to Inheritance <a id=\"1\"></a>\n",
    "\n",
    "Inheritance is a fundamental concept in object-oriented programming that allows a class (subclass) to inherit attributes and methods from another class (superclass). This helps to promote code reuse and organize code into a hierarchical structure."
   ]
  },
  {
   "cell_type": "markdown",
   "metadata": {},
   "source": [
    "In this example, `Dog` and `Cat` inherit from the `Animal` class and override the `speak()` method."
   ]
  },
  {
   "cell_type": "code",
   "execution_count": 5,
   "metadata": {},
   "outputs": [
    {
     "name": "stdout",
     "output_type": "stream",
     "text": [
      "Frank says Woof!\n",
      "Bob says Meow!\n"
     ]
    }
   ],
   "source": [
    "class Animal:\n",
    "    def __init__(self, name):\n",
    "        self.name = name\n",
    "    \n",
    "    def speak(self):\n",
    "        raise NotImplementedError(\"Subclass must implement abstract method\")\n",
    "\n",
    "class Dog(Animal):\n",
    "    def speak(self):\n",
    "        return f\"{self.name} says Woof!\"\n",
    "\n",
    "class Cat(Animal):\n",
    "    def speak(self):\n",
    "        return f\"{self.name} says Meow!\"\n",
    "\n",
    "my_dog = Dog(\"Frank\")\n",
    "print(my_dog.speak())\n",
    "\n",
    "my_cat = Cat(\"Bob\")\n",
    "print(my_cat.speak())"
   ]
  },
  {
   "cell_type": "code",
   "execution_count": 6,
   "metadata": {},
   "outputs": [
    {
     "data": {
      "text/plain": [
       "(object,)"
      ]
     },
     "execution_count": 6,
     "metadata": {},
     "output_type": "execute_result"
    }
   ],
   "source": [
    "Animal.__bases__"
   ]
  },
  {
   "cell_type": "markdown",
   "metadata": {},
   "source": [
    "---\n",
    "## 2. Defining Subclasses <a id=\"2\"></a>\n",
    "\n",
    "To define a subclass, use the following syntax:\n",
    "\n",
    "```python\n",
    "class SubclassName(SuperclassName):\n",
    "    # subclass body\n",
    "```"
   ]
  },
  {
   "cell_type": "markdown",
   "metadata": {},
   "source": [
    "In this example, `Car` is a subclass of `Vehicle` and adds an additional attribute `doors`."
   ]
  },
  {
   "cell_type": "code",
   "execution_count": null,
   "metadata": {},
   "outputs": [],
   "source": [
    "class Vehicle:\n",
    "    def __init__(self, brand, model):\n",
    "        self._brand = brand\n",
    "        self._model = model\n",
    "    \n",
    "    def info(self):\n",
    "        return f\"Vehicle: {self.brand} {self.model}\"\n",
    "\n",
    "class Car(Vehicle):\n",
    "    def __init__(self, brand, model, doors):\n",
    "        self._brand = brand\n",
    "        self._model = model\n",
    "        self.doors = doors\n",
    "\n",
    "my_new_car = Car(brand=\"Ferrari\", model=\"LaFerrari\", doors=2)\n",
    "my_new_car.info()"
   ]
  },
  {
   "cell_type": "code",
   "execution_count": null,
   "metadata": {},
   "outputs": [],
   "source": [
    "class Vehicles:\n",
    "    def __init__(self, brand, model):\n",
    "        self.brand = brand\n",
    "        self.model = model\n",
    "    \n",
    "    def info(self):\n",
    "        return f\"Vehicle: {self.brand} {self.model}\"\n",
    "\n",
    "class Car(Vehicles):\n",
    "    def __init__(self, brand, model, doors):\n",
    "        super().__init__(brand, model)\n",
    "        self.doors = doors\n",
    "\n",
    "my_new_car = Car(brand=\"Ferrari\", model=\"LaFerrari\", doors=2)\n",
    "my_new_car.info()"
   ]
  },
  {
   "cell_type": "markdown",
   "metadata": {},
   "source": [
    "---\n",
    "## 3. Overriding Methods <a id=\"3\"></a>\n",
    "A subclass can override methods of its superclass to provide specific implementations."
   ]
  },
  {
   "cell_type": "markdown",
   "metadata": {},
   "source": [
    "In this example, the `info()` method is overridden in the `Car` class to provide more specific information."
   ]
  },
  {
   "cell_type": "code",
   "execution_count": null,
   "metadata": {},
   "outputs": [],
   "source": [
    "class Vehicle:\n",
    "    def __init__(self, brand, model):\n",
    "        self.brand = brand\n",
    "        self.model = model\n",
    "    \n",
    "    def info(self):\n",
    "        return f\"Vehicle: {self.brand} {self.model}\"\n",
    "\n",
    "class Car(Vehicle):\n",
    "    def __init__(self, brand, model, doors):\n",
    "        super().__init__(brand, model)\n",
    "        self.doors = doors\n",
    "    \n",
    "    def info(self):\n",
    "        return f\"Car: {self.brand} {self.model} with {self.doors} doors\"\n",
    "    \n",
    "my_new_car = Car(brand=\"Ferrari\", model=\"LaFerrari\", doors=2)\n",
    "my_new_car.info()"
   ]
  },
  {
   "cell_type": "markdown",
   "metadata": {},
   "source": [
    "---\n",
    "## 4. Using the super() Function <a id=\"4\"></a>\n",
    "\n",
    "The `super()` function allows you to call methods from the superclass in the subclass. This is useful for extending or modifying the behavior of inherited methods.\n"
   ]
  },
  {
   "cell_type": "markdown",
   "metadata": {},
   "source": [
    "In this example, `super().info()` is used to call the `info()` method from the `Vehicle` class, and additional information is appended in the `Car` class."
   ]
  },
  {
   "cell_type": "code",
   "execution_count": null,
   "metadata": {},
   "outputs": [],
   "source": [
    "class Vehicle:\n",
    "    def __init__(self, brand, model):\n",
    "        self.brand = brand\n",
    "        self.model = model\n",
    "    \n",
    "    def info(self):\n",
    "        return f\"Vehicle: {self.brand} {self.model}\"\n",
    "\n",
    "class Car(Vehicle):\n",
    "    def __init__(self, brand, model, doors):\n",
    "        super().__init__(brand, model)\n",
    "        self.doors = doors\n",
    "    \n",
    "    def info(self):\n",
    "        return super().info() + f\" with {self.doors} doors\"\n",
    "    \n",
    "my_new_car = Car(brand=\"Ferrari\", model=\"LaFerrari\", doors=2)\n",
    "my_new_car.info()"
   ]
  },
  {
   "cell_type": "markdown",
   "metadata": {},
   "source": [
    "---\n",
    "## 5. Step-by-Step Example <a id=\"5\"></a>\n",
    "\n",
    "Let's create a comprehensive example by implementing a class hierarchy for data analysis tasks."
   ]
  },
  {
   "cell_type": "markdown",
   "metadata": {},
   "source": [
    "### 5.1. DataAnalysis Class"
   ]
  },
  {
   "cell_type": "code",
   "execution_count": null,
   "metadata": {},
   "outputs": [],
   "source": [
    "import pandas as pd\n",
    "\n",
    "class DataAnalysis:\n",
    "    \"\"\"\n",
    "    Performs basic data analysis operations on a given dataset.\n",
    "\n",
    "    Attributes:\n",
    "    data (dict): A dictionary of data where keys are column names and values are lists of data.\n",
    "    _df (DataFrame): A pandas DataFrame created from the data dictionary.\n",
    "    \"\"\"\n",
    "\n",
    "    def __init__(self, data):\n",
    "        \"\"\"\n",
    "        Initializes the DataAnalysis object with a dictionary of data.\n",
    "\n",
    "        Parameters:\n",
    "        data (dict): A dictionary of data where keys are column names and values are lists of data.\n",
    "        \"\"\"\n",
    "        self.data = data\n",
    "        self._df = pd.DataFrame(data)\n",
    "    \n",
    "    def summary(self):\n",
    "        \"\"\"\n",
    "        Returns a summary of the data, including the number of rows and columns.\n",
    "\n",
    "        Returns:\n",
    "        str: A string summarizing the number of rows and columns in the dataset.\n",
    "        \"\"\"\n",
    "        return f\"Dataset with {len(self._df)} rows and {len(self._df.columns)} columns\"\n",
    "    \n",
    "    def mean(self, column):\n",
    "        \"\"\"\n",
    "        Returns the mean of a specified column.\n",
    "\n",
    "        Parameters:\n",
    "        column (str): The column for which to calculate the mean.\n",
    "\n",
    "        Returns:\n",
    "        float: The mean of the specified column.\n",
    "        \"\"\"\n",
    "        return self._df[column].mean()\n",
    "    \n",
    "    def median(self, column):\n",
    "        \"\"\"\n",
    "        Returns the median of a specified column.\n",
    "\n",
    "        Parameters:\n",
    "        column (str): The column for which to calculate the median.\n",
    "\n",
    "        Returns:\n",
    "        float: The median of the specified column.\n",
    "        \"\"\"\n",
    "        return self._df[column].median()\n"
   ]
  },
  {
   "cell_type": "markdown",
   "metadata": {},
   "source": [
    "### 5.2. AdvancedDataAnalysis Class"
   ]
  },
  {
   "cell_type": "code",
   "execution_count": null,
   "metadata": {},
   "outputs": [],
   "source": [
    "class AdvancedDataAnalysis(DataAnalysis):\n",
    "    \"\"\"\n",
    "    Performs advanced data analysis operations on a given dataset.\n",
    "\n",
    "    Inherits from the DataAnalysis class.\n",
    "\n",
    "    Attributes:\n",
    "    data (dict): A dictionary of data where keys are column names and values are lists of data.\n",
    "    _df (DataFrame): A pandas DataFrame created from the data dictionary.\n",
    "    \"\"\"\n",
    "    \n",
    "    def __init__(self, data):\n",
    "        \"\"\"\n",
    "        Initializes the AdvancedDataAnalysis object with a dictionary of data.\n",
    "\n",
    "        Parameters:\n",
    "        data (dict): A dictionary of data where keys are column names and values are lists of data.\n",
    "        \"\"\"\n",
    "        super().__init__(data)\n",
    "    \n",
    "    def variance(self, column):\n",
    "        \"\"\"\n",
    "        Returns the variance of a specified column.\n",
    "\n",
    "        Parameters:\n",
    "        column (str): The column for which to calculate the variance.\n",
    "\n",
    "        Returns:\n",
    "        float: The variance of the specified column.\n",
    "        \"\"\"\n",
    "        return self._df[column].var()\n",
    "    \n",
    "    def standard_deviation(self, column):\n",
    "        \"\"\"\n",
    "        Returns the standard deviation of a specified column.\n",
    "\n",
    "        Parameters:\n",
    "        column (str): The column for which to calculate the standard deviation.\n",
    "\n",
    "        Returns:\n",
    "        float: The standard deviation of the specified column.\n",
    "        \"\"\"\n",
    "        return self._df[column].std()"
   ]
  },
  {
   "cell_type": "markdown",
   "metadata": {},
   "source": [
    "### 5.3. Testing"
   ]
  },
  {
   "cell_type": "code",
   "execution_count": null,
   "metadata": {},
   "outputs": [],
   "source": [
    "# Usage\n",
    "data = {\n",
    "    'age': [25, 30, 35, 40, 45],\n",
    "    'salary': [50000, 60000, 70000, 80000, 90000]\n",
    "}\n",
    "analysis = DataAnalysis(data)\n",
    "advanced_analysis = AdvancedDataAnalysis(data)\n",
    "\n",
    "print(advanced_analysis.summary())  # Inherited method\n",
    "print(advanced_analysis.mean('age'))  # Inherited method\n",
    "print(advanced_analysis.median('salary'))  # Inherited method\n",
    "print(advanced_analysis.variance('age'))  # New method\n",
    "print(advanced_analysis.standard_deviation('salary'))  # New method"
   ]
  },
  {
   "cell_type": "markdown",
   "metadata": {},
   "source": [
    "---\n",
    "## 6. Exercise: Extending a Data Analysis Class <a id=\"6\"></a>\n",
    "\n",
    "In this exercise, you will extend the `DataAnalysis` class with the `StatisticalAnalysis` class that includes additional statistical methods. The `StatisticalAnalysis` class should include the following methods:\n",
    "\n",
    "- `mode(self, column)`: Returns the mode of a specified column.\n",
    "- `range(self, column)`: Returns the range (difference between max and min) of a specified column.\n",
    "- `interquartile_range(self, column)`: Returns the interquartile range (IQR) of a specified column."
   ]
  },
  {
   "cell_type": "markdown",
   "metadata": {},
   "source": [
    "### 6.1. DataAnalysis Class Definition"
   ]
  },
  {
   "cell_type": "code",
   "execution_count": null,
   "metadata": {},
   "outputs": [],
   "source": [
    "import pandas as pd\n",
    "\n",
    "class DataAnalysis:\n",
    "    \"\"\"\n",
    "    Performs basic data analysis operations on a given dataset.\n",
    "\n",
    "    Attributes:\n",
    "    data (dict): A dictionary of data where keys are column names and values are lists of data.\n",
    "    _df (DataFrame): A pandas DataFrame created from the data dictionary.\n",
    "    \"\"\"\n",
    "\n",
    "    def __init__(self, data):\n",
    "        \"\"\"\n",
    "        Initializes the DataAnalysis object with a dictionary of data.\n",
    "\n",
    "        Parameters:\n",
    "        data (dict): A dictionary of data where keys are column names and values are lists of data.\n",
    "        \"\"\"\n",
    "        self.data = data\n",
    "        self._df = pd.DataFrame(data)\n",
    "    \n",
    "    def summary(self):\n",
    "        \"\"\"\n",
    "        Returns a summary of the data, including the number of rows and columns.\n",
    "\n",
    "        Returns:\n",
    "        str: A string summarizing the number of rows and columns in the dataset.\n",
    "        \"\"\"\n",
    "        return f\"Dataset with {len(self._df)} rows and {len(self._df.columns)} columns\"\n",
    "    \n",
    "    def mean(self, column):\n",
    "        \"\"\"\n",
    "        Returns the mean of a specified column.\n",
    "\n",
    "        Parameters:\n",
    "        column (str): The column for which to calculate the mean.\n",
    "\n",
    "        Returns:\n",
    "        float: The mean of the specified column.\n",
    "        \"\"\"\n",
    "        return self._df[column].mean()\n",
    "    \n",
    "    def median(self, column):\n",
    "        \"\"\"\n",
    "        Returns the median of a specified column.\n",
    "\n",
    "        Parameters:\n",
    "        column (str): The column for which to calculate the median.\n",
    "\n",
    "        Returns:\n",
    "        float: The median of the specified column.\n",
    "        \"\"\"\n",
    "        return self._df[column].median()"
   ]
  },
  {
   "cell_type": "markdown",
   "metadata": {},
   "source": [
    "### 6.2. StatisticalAnalysis Class Definition"
   ]
  },
  {
   "cell_type": "code",
   "execution_count": null,
   "metadata": {},
   "outputs": [],
   "source": [
    "# Extend the DataAnalysis class with the StatisticalAnalysis class\n"
   ]
  },
  {
   "cell_type": "markdown",
   "metadata": {},
   "source": [
    "><details>\n",
    "><summary>Do you need some help?</summary>\n",
    ">\n",
    ">Tips:\n",
    ">\n",
    ">- Make sure to follow best practices for defining subclasses and using inheritance.\n",
    ">- Test each method to ensure it behaves as expected.\n",
    ">- Use pandas' built-in methods to simplify operations where possible.\n",
    ">\n",
    "> Here is a working solution:\n",
    ">\n",
    ">\n",
    ">```python\n",
    ">\n",
    ">\n",
    ">class StatisticalAnalysis(DataAnalysis):\n",
    ">    \"\"\"\n",
    ">    Performs advanced statistical analysis operations on a given dataset.\n",
    ">\n",
    ">    Inherits from the DataAnalysis class.\n",
    ">\n",
    ">    Attributes:\n",
    ">    data (dict): A dictionary of data where keys are column names and values are lists of data.\n",
    ">    _df (DataFrame): A pandas DataFrame created from the data dictionary.\n",
    ">    \"\"\"\n",
    ">    \n",
    ">    def __init__(self, data):\n",
    ">        \"\"\"\n",
    ">        Initializes the StatisticalAnalysis object with a dictionary of data.\n",
    ">\n",
    ">        Parameters:\n",
    ">        data (dict): A dictionary of data where keys are column names and values are lists of data.\n",
    ">        \"\"\"\n",
    ">        super().__init__(data)\n",
    ">    \n",
    ">    def mode(self, column):\n",
    ">        \"\"\"\n",
    ">        Returns the mode of a specified column.\n",
    ">\n",
    ">        Parameters:\n",
    ">        column (str): The column for which to calculate the mode.\n",
    ">\n",
    ">        Returns:\n",
    ">        list: The mode(s) of the specified column.\n",
    ">        \"\"\"\n",
    ">        return self._df[column].mode().tolist()\n",
    ">    \n",
    ">    def range(self, column):\n",
    ">        \"\"\"\n",
    ">        Returns the range (difference between max and min) of a specified column.\n",
    ">\n",
    ">        Parameters:\n",
    ">        column (str): The column for which to calculate the range.\n",
    ">\n",
    ">        Returns:\n",
    ">        float: The range of the specified column.\n",
    ">        \"\"\"\n",
    ">        return self._df[column].max() - self._df[column].min()\n",
    ">    \n",
    ">    def interquartile_range(self, column):\n",
    ">        \"\"\"\n",
    ">        Returns the interquartile range (IQR) of a specified column.\n",
    ">\n",
    ">        Parameters:\n",
    ">        column (str): The column for which to calculate the IQR.\n",
    ">\n",
    ">        Returns:\n",
    ">        float: The interquartile range of the specified column.\n",
    ">        \"\"\"\n",
    ">        q1 = self._df[column].quantile(0.25)\n",
    ">        q3 = self._df[column].quantile(0.75)\n",
    ">        return q3 - q1\n",
    ">```"
   ]
  },
  {
   "cell_type": "markdown",
   "metadata": {},
   "source": [
    "Try now if your code worked as expected. Run the following cell:"
   ]
  },
  {
   "cell_type": "code",
   "execution_count": null,
   "metadata": {},
   "outputs": [],
   "source": [
    "# Test your implementation with the example usage provided\n",
    "data = {\n",
    "    'age': [25, 30, 35, 40, 45, 30, 35],\n",
    "    'salary': [50000, 60000, 70000, 80000, 90000, 60000, 70000]\n",
    "    }\n",
    "stat_analysis = StatisticalAnalysis(data)\n",
    "\n",
    "print(stat_analysis.mode('age'))\n",
    "print(stat_analysis.range('salary'))\n",
    "print(stat_analysis.interquartile_range('age'))\n",
    "print(stat_analysis.summary())\n"
   ]
  }
 ],
 "metadata": {
  "kernelspec": {
   "display_name": ".venv",
   "language": "python",
   "name": "python3"
  },
  "language_info": {
   "codemirror_mode": {
    "name": "ipython",
    "version": 3
   },
   "file_extension": ".py",
   "mimetype": "text/x-python",
   "name": "python",
   "nbconvert_exporter": "python",
   "pygments_lexer": "ipython3",
   "version": "3.12.5"
  }
 },
 "nbformat": 4,
 "nbformat_minor": 2
}
