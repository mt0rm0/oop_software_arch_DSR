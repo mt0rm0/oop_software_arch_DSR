{
 "cells": [
  {
   "cell_type": "markdown",
   "id": "839ff5f5",
   "metadata": {},
   "source": [
    "# Refactoring Example - Step 1: Original code"
   ]
  },
  {
   "cell_type": "code",
   "execution_count": null,
   "id": "952545db",
   "metadata": {
    "vscode": {
     "languageId": "plaintext"
    }
   },
   "outputs": [],
   "source": [
    "import pandas as pd\n",
    "import sqlite3\n",
    "\n",
    "# Load data\n",
    "df = pd.read_csv(\"data/customers.csv\")\n",
    "print(\"Data loaded successfully.\")"
   ]
  },
  {
   "cell_type": "code",
   "execution_count": null,
   "id": "16e25fc8",
   "metadata": {
    "vscode": {
     "languageId": "plaintext"
    }
   },
   "outputs": [],
   "source": [
    "# Validate columns\n",
    "if not all(col in df.columns for col in [\"id\", \"name\", \"email\", \"signup_date\"]):\n",
    "    print(\"Missing some columns...\")"
   ]
  },
  {
   "cell_type": "code",
   "execution_count": null,
   "id": "dd6d4bb7",
   "metadata": {
    "vscode": {
     "languageId": "plaintext"
    }
   },
   "outputs": [],
   "source": [
    "# Clean data\n",
    "df[\"email\"] = df[\"email\"].str.lower()\n",
    "df[\"signup_date\"] = pd.to_datetime(df[\"signup_date\"])\n",
    "df = df.dropna(subset=[\"id\", \"email\"])\n",
    "print(\"Cleaning done.\")"
   ]
  },
  {
   "cell_type": "code",
   "execution_count": null,
   "id": "732e8ca9",
   "metadata": {
    "vscode": {
     "languageId": "plaintext"
    }
   },
   "outputs": [],
   "source": [
    "# Transform data\n",
    "df[\"days_since_signup\"] = (pd.Timestamp.now() - df[\"signup_date\"]).dt.days"
   ]
  },
  {
   "cell_type": "code",
   "execution_count": null,
   "id": "13fbb9c7",
   "metadata": {
    "vscode": {
     "languageId": "plaintext"
    }
   },
   "outputs": [],
   "source": [
    "# Save to database\n",
    "conn = sqlite3.connect(\"data/cleaned_customers.db\")\n",
    "df.to_sql(\"customers\", conn, if_exists=\"replace\", index=False)\n",
    "conn.close()\n",
    "print(\"Data written to database.\")"
   ]
  },
  {
   "cell_type": "code",
   "execution_count": null,
   "id": "8560b9e3",
   "metadata": {
    "vscode": {
     "languageId": "plaintext"
    }
   },
   "outputs": [],
   "source": [
    "print(\"Pipeline finished.\")"
   ]
  }
 ],
 "metadata": {
  "language_info": {
   "name": "python"
  }
 },
 "nbformat": 4,
 "nbformat_minor": 5
}
