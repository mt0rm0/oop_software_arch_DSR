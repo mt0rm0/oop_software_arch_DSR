{
 "cells": [
  {
   "cell_type": "markdown",
   "metadata": {},
   "source": [
    "# OOP 3: Special Methods (__init__, __str__, __repr__, etc.)\n",
    "\n",
    "In this notebook, we'll explore special methods in Python classes, which allow us to define how objects are initialized, represented, and interacted with. We'll illustrate these concepts with examples relevant to data science.\n",
    "\n",
    "## Table of Contents\n",
    "\n",
    "1. [Introduction to Special Methods](#1)\n",
    "2. [\\_\\_init\\_\\_: Object Initialization](#2)\n",
    "3. [\\_\\_str\\_\\_ and \\_\\_repr\\_\\_: Object Representation](#3)\n",
    "4. Other Useful Special Methods\n",
    "   1. [\\_\\_getitem\\_\\_, \\_\\_setitem\\_\\_, \\_\\_delitem\\_\\_](#4.1)\n",
    "   2. [Comparison Methods (\\_\\_eq\\_\\_, \\_\\_lt\\_\\_, \\_\\_le\\_\\_, \\_\\_gt\\_\\_, \\_\\_ge\\_\\_, \\_\\_ne\\_\\_)](#4.2)\n",
    "   3. [Arithmetic Methods (\\_\\_add\\_\\_, \\_\\_sub\\_\\_, \\_\\_mul\\_\\_, \\_\\_truediv\\_\\_)](#4.3)\n",
    "   4. [\\_\\_len\\_\\_](#4.4)\n",
    "   5. [\\_\\_class\\_\\_](#4.5)\n",
    "   6. [\\_\\_dict\\_\\_](#4.6)\n",
    "   7. [\\_\\_bases\\_\\_](#4.7)\n",
    "5. [Example: DataFrame Wrapper Class](#5)\n",
    "6. [Exercise: Implementing a Dataset Class](#6)"
   ]
  },
  {
   "cell_type": "markdown",
   "metadata": {},
   "source": [
    "---\n",
    "## 1. Introduction to Special Methods <a id=\"1\"></a>\n",
    "\n",
    "Special methods in Python, also known as dunder methods (double underscore methods), allow us to define the behavior of objects for built-in functions and operators. These methods are defined with double underscores before and after their names (e.g., \\_\\_init\\_\\_, \\_\\_str\\_\\_).\n"
   ]
  },
  {
   "cell_type": "markdown",
   "metadata": {},
   "source": [
    "---\n",
    "## 2. \\_\\_init\\_\\_: Object Initialization <a id=\"2\"></a>\n",
    "\n",
    "The `__init__` method is called when an object is instantiated. It's used to initialize the object's attributes.\n",
    "\n",
    "**Example**"
   ]
  },
  {
   "cell_type": "code",
   "execution_count": 1,
   "metadata": {},
   "outputs": [
    {
     "name": "stdout",
     "output_type": "stream",
     "text": [
      "Alice Junior\n"
     ]
    }
   ],
   "source": [
    "class DataScientist:\n",
    "    def __init__(self, name, expertise_level=\"Junior\"):\n",
    "        self.name = name\n",
    "        self.expertise_level = expertise_level\n",
    "\n",
    "ds = DataScientist(\"Alice\")\n",
    "print(ds.name, ds.expertise_level)"
   ]
  },
  {
   "cell_type": "markdown",
   "metadata": {},
   "source": [
    "\n",
    "In this example, the `__init__` method initializes the `name` and `expertise_level` attributes of the `DataScientist` object."
   ]
  },
  {
   "cell_type": "markdown",
   "metadata": {},
   "source": [
    "---\n",
    "## 3. \\_\\_str\\_\\_ and \\_\\_repr\\_\\_: Object Representation <a id=\"3\"></a>\n",
    "\n",
    "The `__str__` method defines the string representation of an object, intended to be readable. The `__repr__` method defines the official string representation of an object, intended to be unambiguous.\n",
    "\n",
    "**Example**"
   ]
  },
  {
   "cell_type": "code",
   "execution_count": 4,
   "metadata": {},
   "outputs": [
    {
     "data": {
      "text/plain": [
       "\"'This is a string'\""
      ]
     },
     "execution_count": 4,
     "metadata": {},
     "output_type": "execute_result"
    }
   ],
   "source": [
    "repr(\"This is a string\")"
   ]
  },
  {
   "cell_type": "code",
   "execution_count": 10,
   "metadata": {},
   "outputs": [
    {
     "name": "stdout",
     "output_type": "stream",
     "text": [
      "DataScientist: Alice, Level: Senior\n",
      "DataScientist(name='Alice', expertise_level='Senior')\n"
     ]
    }
   ],
   "source": [
    "class DataScientist:\n",
    "    def __init__(self, name, expertise_level):\n",
    "        self.name = name\n",
    "        self.expertise_level = expertise_level\n",
    "    \n",
    "    def __str__(self):\n",
    "        return f\"DataScientist: {self.name}, Level: {self.expertise_level}\"\n",
    "        \n",
    "    def __repr__(self):\n",
    "        return f\"DataScientist(name='{self.name}', expertise_level='{self.expertise_level}')\"\n",
    "    \n",
    "\n",
    "\n",
    "ds = DataScientist(\"Alice\", \"Senior\")\n",
    "print(str(ds))  # Calls __str__\n",
    "print(repr(ds))  # Calls __repr__"
   ]
  },
  {
   "cell_type": "code",
   "execution_count": 14,
   "metadata": {},
   "outputs": [
    {
     "data": {
      "text/plain": [
       "DataScientist(name='Alice', expertise_level='Senior')"
      ]
     },
     "execution_count": 14,
     "metadata": {},
     "output_type": "execute_result"
    }
   ],
   "source": [
    "# command 1\n",
    "# command 2\n",
    "ds"
   ]
  },
  {
   "cell_type": "markdown",
   "metadata": {},
   "source": [
    "In this example, `__str__` provides a readable string representation, while `__repr__` provides a more detailed and unambiguous string representation."
   ]
  },
  {
   "cell_type": "markdown",
   "metadata": {},
   "source": [
    "---\n",
    "## 4. Other Useful Special Methods <a id=\"4\"></a>\n"
   ]
  },
  {
   "cell_type": "markdown",
   "metadata": {},
   "source": [
    "### 4.1 \\_\\_getitem\\_\\_, \\_\\_setitem\\_\\_, \\_\\_delitem\\_\\_ <a id=\"4.1\"></a>\n",
    "\n",
    "These methods allow objects to use the indexing syntax for getting, setting, and deleting items.\n",
    "\n",
    "**Example**"
   ]
  },
  {
   "cell_type": "code",
   "execution_count": 16,
   "metadata": {},
   "outputs": [
    {
     "name": "stdout",
     "output_type": "stream",
     "text": [
      "0    25\n",
      "1    30\n",
      "2    35\n",
      "3    40\n",
      "Name: age, dtype: int64\n",
      "0    5000\n",
      "1    6000\n",
      "2    7000\n",
      "3    8000\n",
      "Name: bonus, dtype: int64\n"
     ]
    }
   ],
   "source": [
    "import pandas as pd\n",
    "\n",
    "class DataFrameWrapper:\n",
    "    def __init__(self, data):\n",
    "        self._data = pd.DataFrame(data)\n",
    "    \n",
    "    def __getitem__(self, key):\n",
    "        return self._data[key]\n",
    "    \n",
    "    def __setitem__(self, key, value):\n",
    "        self._data[key] = value\n",
    "    \n",
    "    def __delitem__(self, key):\n",
    "        del self._data[key]\n",
    "\n",
    "# Usage\n",
    "data = {'age': [25, 30, 35, 40], 'salary': [50000, 60000, 70000, 80000]}\n",
    "df_wrapper = DataFrameWrapper(data)\n",
    "print(df_wrapper['age'])  # __getitem__\n",
    "df_wrapper['bonus'] = [5000, 6000, 7000, 8000]  # __setitem__\n",
    "print(df_wrapper['bonus'])\n",
    "del df_wrapper['age']  # __delitem__"
   ]
  },
  {
   "cell_type": "markdown",
   "metadata": {},
   "source": [
    "### 4.2 Comparison Methods (\\_\\_eq\\_\\_, \\_\\_lt\\_\\_, \\_\\_le\\_\\_, \\_\\_gt\\_\\_, \\_\\_ge\\_\\_, \\_\\_ne\\_\\_) <a id=\"4.2\"></a>\n",
    "\n",
    "These methods define behavior for comparison operators.\n",
    "\n",
    "**Example**"
   ]
  },
  {
   "cell_type": "code",
   "execution_count": null,
   "metadata": {},
   "outputs": [
    {
     "data": {
      "text/plain": [
       "True"
      ]
     },
     "execution_count": 35,
     "metadata": {},
     "output_type": "execute_result"
    }
   ],
   "source": []
  },
  {
   "cell_type": "code",
   "execution_count": 31,
   "metadata": {},
   "outputs": [
    {
     "name": "stdout",
     "output_type": "stream",
     "text": [
      "False\n",
      "True\n",
      "False\n"
     ]
    }
   ],
   "source": [
    "class DataScientist:\n",
    "    def __init__(self, name, expertise_level, salary):\n",
    "        self.name = name\n",
    "        self.expertise_level = expertise_level\n",
    "        self.salary = salary\n",
    "    \n",
    "    def __eq__(self, other):\n",
    "        return self.salary == other.salary\n",
    "    \n",
    "    def __lt__(self, other):\n",
    "        return self.name < other.name\n",
    "    \n",
    "    def __le__(self, other):\n",
    "        return self.salary <= other.salary\n",
    "\n",
    "ds1 = DataScientist(\"Alice\", \"Senior\", 100000)\n",
    "ds2 = DataScientist(\"Bob\", \"Junior\", 80000)\n",
    "\n",
    "print(ds1 == ds2)  # __eq__\n",
    "print(ds1 < ds2)  # __lt__\n",
    "print(ds1 <= ds2)  # __le__"
   ]
  },
  {
   "cell_type": "markdown",
   "metadata": {},
   "source": [
    "### 4.3 Arithmetic Methods (\\_\\_add\\_\\_, \\_\\_sub\\_\\_, \\_\\_mul\\_\\_, \\_\\_truediv\\_\\_) <a id=\"4.3\"></a>\n",
    "\n",
    "These methods define behavior for arithmetic operators.\n",
    "\n",
    "**Example**"
   ]
  },
  {
   "cell_type": "code",
   "execution_count": 24,
   "metadata": {},
   "outputs": [
    {
     "name": "stdout",
     "output_type": "stream",
     "text": [
      "180000\n",
      "20000\n"
     ]
    }
   ],
   "source": [
    "class DataScientist:\n",
    "    def __init__(self, name, salary):\n",
    "        self.name = name\n",
    "        self.salary = salary\n",
    "    \n",
    "    def __add__(self, other):\n",
    "        return self.salary + other.salary\n",
    "    \n",
    "    def __sub__(self, other):\n",
    "        return self.salary - other.salary\n",
    "\n",
    "ds1 = DataScientist(\"Alice\", 100000)\n",
    "ds2 = DataScientist(\"Bob\", 80000)\n",
    "\n",
    "print(ds1 + ds2)  # __add__\n",
    "print(ds1 - ds2)  # __sub__"
   ]
  },
  {
   "cell_type": "markdown",
   "metadata": {
    "vscode": {
     "languageId": "plaintext"
    }
   },
   "source": [
    "### 4.4 \\_\\_len\\_\\_ <a id=\"4.4\"></a>\n",
    "\n",
    "The `__len__` method is used to define the behavior of the `len()` function for an object.\n",
    "It should return the number of items in the object.\n",
    "\n",
    "**Example**"
   ]
  },
  {
   "cell_type": "code",
   "execution_count": 22,
   "metadata": {},
   "outputs": [
    {
     "data": {
      "text/plain": [
       "4"
      ]
     },
     "execution_count": 22,
     "metadata": {},
     "output_type": "execute_result"
    }
   ],
   "source": [
    "len([2,3,6,5])"
   ]
  },
  {
   "cell_type": "code",
   "execution_count": null,
   "metadata": {},
   "outputs": [],
   "source": [
    "class DataCollection:\n",
    "    def __init__(self, data):\n",
    "        self.data = data\n",
    "    \n",
    "    def __len__(self):\n",
    "        return len(self.data)\n",
    "\n",
    "# Usage\n",
    "data = [25, 30, 35, 40, 45]\n",
    "collection = DataCollection(data)\n",
    "print(len(collection))  # __len__"
   ]
  },
  {
   "cell_type": "markdown",
   "metadata": {},
   "source": [
    "### 4.5 \\_\\_class\\_\\_ <a id=\"4.5\"></a>\n",
    "\n",
    "The `__class__` attribute returns the class of an instance.\n",
    "\n",
    "**Example**"
   ]
  },
  {
   "cell_type": "code",
   "execution_count": 25,
   "metadata": {},
   "outputs": [
    {
     "name": "stdout",
     "output_type": "stream",
     "text": [
      "<class '__main__.DataScientist'>\n"
     ]
    }
   ],
   "source": [
    "ds = DataScientist(\"Alice\", \"Senior\")\n",
    "print(ds.__class__)"
   ]
  },
  {
   "cell_type": "markdown",
   "metadata": {},
   "source": [
    "### 4.6 \\_\\_dict\\_\\_ <a id=\"4.6\"></a>\n",
    "\n",
    "The `__dict__` attribute returns a dictionary representation of an object's attributes.\n",
    "\n",
    "**Example**"
   ]
  },
  {
   "cell_type": "code",
   "execution_count": 27,
   "metadata": {},
   "outputs": [
    {
     "name": "stdout",
     "output_type": "stream",
     "text": [
      "{'__module__': '__main__', '__firstlineno__': 1, '__init__': <function DataScientist.__init__ at 0x0000020362AEC860>, '__add__': <function DataScientist.__add__ at 0x0000020362AED580>, '__sub__': <function DataScientist.__sub__ at 0x0000020362AECFE0>, '__static_attributes__': ('name', 'salary'), '__dict__': <attribute '__dict__' of 'DataScientist' objects>, '__weakref__': <attribute '__weakref__' of 'DataScientist' objects>, '__doc__': None}\n"
     ]
    }
   ],
   "source": [
    "print(DataScientist.__dict__)"
   ]
  },
  {
   "cell_type": "markdown",
   "metadata": {},
   "source": [
    "### 4.7 \\_\\_bases\\_\\_ <a id=\"4.7\"></a>\n",
    "\n",
    "The `__bases__` attribute returns a tuple containing the base classes of a class.\n",
    "\n",
    "**Example**"
   ]
  },
  {
   "cell_type": "code",
   "execution_count": 28,
   "metadata": {},
   "outputs": [
    {
     "name": "stdout",
     "output_type": "stream",
     "text": [
      "(<class 'object'>,)\n"
     ]
    }
   ],
   "source": [
    "print(DataScientist.__bases__)"
   ]
  },
  {
   "cell_type": "markdown",
   "metadata": {},
   "source": [
    "---\n",
    "### 5. Example: DataFrame Wrapper Class <a id=\"5\"></a>\n",
    "\n",
    "Let's create a more comprehensive example by implementing a `DataFrame` wrapper class that uses various special methods.\n",
    "\n",
    "**Step-by-Step Example**"
   ]
  },
  {
   "cell_type": "code",
   "execution_count": null,
   "metadata": {},
   "outputs": [],
   "source": [
    "import pandas as pd\n",
    "\n",
    "class DataFrameWrapper:\n",
    "    def __init__(self, data):\n",
    "        self._data = pd.DataFrame(data)\n",
    "    \n",
    "    def __str__(self):\n",
    "        return f\"DataFrameWrapper with {len(self._data)} rows and {len(self._data.columns)} columns\"\n",
    "    \n",
    "    def __repr__(self):\n",
    "        return f\"DataFrameWrapper(data={self._data.to_dict()})\"\n",
    "    \n",
    "    def __getitem__(self, key):\n",
    "        return self._data[key]\n",
    "    \n",
    "    def __setitem__(self, key, value):\n",
    "        self._data[key] = value\n",
    "    \n",
    "    def __len__(self):\n",
    "        return len(self._data)\n",
    "\n",
    "# Usage\n",
    "data = {\n",
    "    'age': [25, 30, 35, 40],\n",
    "    'salary': [50000, 60000, 70000, 80000]\n",
    "}\n",
    "df_wrapper = DataFrameWrapper(data)\n",
    "\n",
    "# Using special methods\n",
    "print(str(df_wrapper))  # __str__\n",
    "print(repr(df_wrapper))  # __repr__\n",
    "print(df_wrapper['age'])  # __getitem__\n",
    "df_wrapper['salary'] = [52000, 62000, 72000, 82000]  # __setitem__\n",
    "print(len(df_wrapper))  # __len__\n",
    "print(df_wrapper.__class__)  # __class__\n",
    "print(df_wrapper.__dict__)  # __dict__\n",
    "print(DataFrameWrapper.__bases__)  # __bases__"
   ]
  },
  {
   "cell_type": "markdown",
   "metadata": {},
   "source": [
    "Explanation\n",
    "\n",
    "1. **Initialization (\\_\\_init\\_\\_)**: Initializes the DataFrame with the provided data.\n",
    "2. **String Representation (\\_\\_str\\_\\_ and \\_\\_repr\\_\\_)**: Provides readable and detailed string representations.\n",
    "3. **Item Access (\\_\\_getitem\\_\\_ and \\_\\_setitem\\_\\_)**: Allows accessing and modifying DataFrame columns using bracket notation.\n",
    "4. **Length (\\_\\_len\\_\\_)**: Returns the number of rows in the DataFrame.\n",
    "5. **Class and Attribute Dictionary (\\_\\_class\\_\\_ and \\_\\_dict\\_\\_)**: Demonstrates the use of special attributes to access class information and attribute dictionaries."
   ]
  },
  {
   "cell_type": "markdown",
   "metadata": {
    "vscode": {
     "languageId": "plaintext"
    }
   },
   "source": [
    "---\n",
    "## 6. Exercise: Implementing a Dataset Class <a id=\"6\"></a>\n",
    "\n",
    "Create a `Dataset` class that wraps around a pandas `DataFrame` and includes several special methods to provide a robust and user-friendly interface for data science operations.\n",
    "\n",
    "**Requirements**\n",
    "- **Initialization (\\_\\_init\\_\\_)**:\n",
    "  - It should take a dictionary of data, convert it into a pandas `DataFrame` and store it in a protected variable called `_data`.\n",
    "- **String Representation (\\_\\_str\\_\\_ and \\_\\_repr\\_\\_)**:\n",
    "  - Implement \\_\\_str\\_\\_ to return a readable summary of the dataset, including the number of rows and columns.\n",
    "  - Implement \\_\\_repr\\_\\_ to return a detailed representation of the dataset, including its content.\n",
    "- **Item Access and Modification (\\_\\_getitem\\_\\_, \\_\\_setitem\\_\\_, \\_\\_delitem\\_\\_)**:\n",
    "  - Implement \\_\\_getitem\\_\\_ to allow column access using the indexing syntax.\n",
    "  - Implement \\_\\_setitem\\_\\_ to allow column modification using the indexing syntax.\n",
    "  - Implement \\_\\_delitem\\_\\_ to allow column deletion using the del keyword.\n",
    "- **Length (\\_\\_len\\_\\_)**:\n",
    "  - Implement it to return the number of rows in the dataset.\n",
    "- **Comparison (\\_\\_eq\\_\\_)**:\n",
    "  - Implement it to compare two `Dataset` objects based on the equality of their underlying DataFrames.\n",
    "- **Addition (\\_\\_add\\_\\_)**:\n",
    "        Implement it to concatenate two `Dataset` objects along the rows and return a new `Dataset` object."
   ]
  },
  {
   "cell_type": "code",
   "execution_count": null,
   "metadata": {},
   "outputs": [],
   "source": [
    "# your code here\n",
    "class ..."
   ]
  },
  {
   "cell_type": "markdown",
   "metadata": {
    "vscode": {
     "languageId": "plaintext"
    }
   },
   "source": [
    "><details>\n",
    "><summary>Do you need some help?</summary>\n",
    "> \n",
    "> Here is a working solution:\n",
    "> ```python\n",
    "> import pandas as pd\n",
    ">\n",
    "> class Dataset:\n",
    ">    def __init__(self, data):\n",
    ">       self._data = pd.DataFrame(data)\n",
    ">    \n",
    ">    def __str__(self):\n",
    ">        return f\"Dataset with {len(self._data)} rows and {len(self._data.columns)} columns\"\n",
    ">    \n",
    ">    def __repr__(self):\n",
    ">        return f\"Dataset(data={self._data.to_dict()})\"\n",
    ">    \n",
    ">    def __getitem__(self, key):\n",
    ">        return self._data[key]\n",
    ">    \n",
    ">    def __setitem__(self, key, value):\n",
    ">        self._data[key] = value\n",
    ">    \n",
    ">    def __delitem__(self, key):\n",
    ">        del self._data[key]\n",
    ">    \n",
    ">    def __len__(self):\n",
    ">        return len(self._data)\n",
    ">    \n",
    ">    def __eq__(self, other):\n",
    ">        return self._data.equals(other._data)\n",
    ">    \n",
    ">    def __add__(self, other):\n",
    ">        combined_data = pd.concat([self._data, other._data], ignore_index=True)\n",
    ">        return Dataset(combined_data)\n",
    "> ```"
   ]
  },
  {
   "cell_type": "markdown",
   "metadata": {},
   "source": [
    "Try now if your code worked as expected. Run the following cell:"
   ]
  },
  {
   "cell_type": "code",
   "execution_count": null,
   "metadata": {},
   "outputs": [],
   "source": [
    "# Initialize two datasets\n",
    "data1 = {\n",
    "    'age': [25, 30, 35, 40],\n",
    "    'salary': [50000, 60000, 70000, 80000]\n",
    "}\n",
    "data2 = {\n",
    "    'age': [45, 50],\n",
    "    'salary': [90000, 100000]\n",
    "}\n",
    "ds1 = Dataset(data1)\n",
    "ds2 = Dataset(data2)\n",
    "\n",
    "# String representation\n",
    "print(str(ds1))  # Should print a summary of ds1\n",
    "print(repr(ds1))  # Should print a detailed representation of ds1\n",
    "\n",
    "# Item access and modification\n",
    "print(ds1['age'])  # Should print the 'age' column of ds1\n",
    "ds1['bonus'] = [5000, 6000, 7000, 8000]  # Should add/modify the 'bonus' column in ds1\n",
    "print(ds1['bonus'])\n",
    "del ds1['age']  # Should delete the 'age' column from ds1\n",
    "\n",
    "# Length\n",
    "print(len(ds1))  # Should print the number of rows in ds1\n",
    "\n",
    "# Comparison\n",
    "print(ds1 == ds2)  # Should compare ds1 and ds2 for equality\n",
    "\n",
    "# Addition\n",
    "ds3 = ds1 + ds2  # Should concatenate ds1 and ds2 and return a new Dataset\n",
    "print(ds3)"
   ]
  }
 ],
 "metadata": {
  "kernelspec": {
   "display_name": "oop-software-arch-dsr",
   "language": "python",
   "name": "python3"
  },
  "language_info": {
   "codemirror_mode": {
    "name": "ipython",
    "version": 3
   },
   "file_extension": ".py",
   "mimetype": "text/x-python",
   "name": "python",
   "nbconvert_exporter": "python",
   "pygments_lexer": "ipython3",
   "version": "3.13.2"
  }
 },
 "nbformat": 4,
 "nbformat_minor": 2
}
