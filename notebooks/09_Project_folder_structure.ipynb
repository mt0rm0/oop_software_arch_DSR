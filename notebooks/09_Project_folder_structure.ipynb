{
 "cells": [
  {
   "cell_type": "markdown",
   "metadata": {},
   "source": [
    "# Project Folder Structure\n",
    "\n",
    "In this notebook, we'll explore a well-organized project folder structure that is adapted from the Cookiecutter Data Science project by Driven Data. This structure is designed to facilitate collaboration, reproducibility, and efficient project management in data science. We will provide an overview of each directory and file in the structure, explain its purpose, and demonstrate how to set it up for your projects.\n",
    "\n",
    "**Table of Contents**\n",
    "\n",
    "1. [Project Folder Structure](#1)\n",
    "2. [Example Folder Structure](#2)\n",
    "3. [Exercise](#3)"
   ]
  },
  {
   "cell_type": "markdown",
   "metadata": {},
   "source": [
    "---\n",
    "## 1. Project Folder Structure <a id=\"1\"></a>\n",
    "\n",
    "Here is an example of folder structure:\n",
    "\n",
    "```markdown\n",
    "project/\n",
    "├── LICENSE            <- Open-source license if one is chosen\n",
    "├── Makefile           <- Makefile with convenience commands like `make data` or `make train`\n",
    "├── README.md          <- The top-level README for developers using this project.\n",
    "├── data\n",
    "│   ├── external       <- Data from third party sources.\n",
    "│   ├── interim        <- Intermediate data that has been transformed.\n",
    "│   ├── processed      <- The final, canonical data sets for modeling.\n",
    "│   └── raw            <- The original, immutable data dump.\n",
    "│\n",
    "├── envs\n",
    "│   ├── .dev_env        <- Base environment for development\n",
    "│   ├── .prod_env       <- Environment for production\n",
    "│   ├── .dev2_env       <- Extra environment for development, if needed\n",
    "│   ├── dev_req.txt     <- The requirements file for reproducing the base development environment\n",
    "│   ├── prod_req.txt    <- The requirements file for reproducing the production environment\n",
    "│   └── dev2_req.txt    <- The requirements file for reproducing the extra development environment\n",
    "│\n",
    "├── docs               <- A default mkdocs (www.mkdocs.org) or Sphinx (https://www.sphinx-doc.org) project.\n",
    "│\n",
    "├── models             <- Trained and serialized models, model predictions, or model summaries\n",
    "│\n",
    "├── notebooks          <- Jupyter notebooks. Naming convention is a number (for ordering),\n",
    "│                         the creator's initials, and a short `-` delimited description, e.g.\n",
    "│                         `1.0-jqp-initial-data-exploration`.\n",
    "│\n",
    "├── references         <- Data dictionaries, manuals, and all other explanatory materials.\n",
    "│\n",
    "├── reports            <- Generated analysis as HTML, PDF, LaTeX, etc.\n",
    "│   └── figures        <- Generated graphics and figures to be used in reporting\n",
    "│\n",
    "└── src                <- Source code for use in this project.\n",
    "    │\n",
    "    ├── __init__.py             <- Makes src a Python module\n",
    "    ├── config.py               <- Store useful variables and configuration\n",
    "    ├── dataset.py              <- Scripts to download or generate data\n",
    "    ├── features.py             <- Code to create features for modeling\n",
    "    ├── modeling                \n",
    "    │   ├── __init__.py \n",
    "    │   ├── predict.py          <- Code to run model inference with trained models          \n",
    "    │   └── train.py            <- Code to train models\n",
    "    └── plots.py                <- Code to create visualizations\n",
    "```"
   ]
  },
  {
   "cell_type": "markdown",
   "metadata": {},
   "source": [
    "---\n",
    "## 2. Example Folder Structure  <a id=\"2\"></a>\n",
    "\n",
    "Let's create an example folder structure for a data science project using this layout."
   ]
  },
  {
   "cell_type": "code",
   "execution_count": null,
   "metadata": {},
   "outputs": [],
   "source": [
    "import os\n",
    "\n",
    "def create_folder_structure(base_path):\n",
    "    folders = [\n",
    "        \"data/external\", \"data/interim\", \"data/processed\", \"data/raw\",\n",
    "        \"envs\",\n",
    "        \"docs\",\n",
    "        \"models\",\n",
    "        \"notebooks\",\n",
    "        \"references\",\n",
    "        \"reports/figures\",\n",
    "        \"src\",\n",
    "        \"src/modeling\"\n",
    "    ]\n",
    "    \n",
    "    for folder in folders:\n",
    "        os.makedirs(os.path.join(base_path, folder), exist_ok=True)\n",
    "    \n",
    "    files = [\"LICENSE\", \"Makefile\", \"README.md\", \n",
    "             \"envs/.dev_env\", \"envs/.prod_env\", \"envs/.dev2_env\",\n",
    "             \"envs/dev_req.txt\", \"envs/prod_req.txt\", \"envs/dev2_req.txt\",\n",
    "             \"src/__init__.py\", \"src/config.py\", \"src/dataset.py\", \n",
    "             \"src/features.py\", \"src/modeling/__init__.py\", \n",
    "             \"src/modeling/predict.py\", \"src/modeling/train.py\", \n",
    "             \"src/plots.py\"]\n",
    "    \n",
    "    for file in files:\n",
    "        open(os.path.join(base_path, file), 'a').close()\n",
    "\n",
    "# Create the folder structure\n",
    "base_path = \"project\"\n",
    "create_folder_structure(base_path)"
   ]
  },
  {
   "cell_type": "markdown",
   "metadata": {
    "vscode": {
     "languageId": "plaintext"
    }
   },
   "source": [
    "---\n",
    "## 3. Exercise  <a id=\"3\"></a>\n",
    "Create a similar folder structure for this project adapting to your needs the provided script. Sort the files in the corresponding folder. Document the purpose of each folder in your README.md file if you find it necessary.\n",
    "\n",
    "The idea is helping you understand and implement a structured layout for your data science projects, facilitating better organization, collaboration, and reproducibility."
   ]
  }
 ],
 "metadata": {
  "language_info": {
   "name": "python"
  }
 },
 "nbformat": 4,
 "nbformat_minor": 2
}
