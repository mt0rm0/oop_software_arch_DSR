{
 "cells": [
  {
   "cell_type": "markdown",
   "id": "2e21a7cb",
   "metadata": {},
   "source": [
    "# Refactoring Example - Step 2: Packing in a class"
   ]
  },
  {
   "cell_type": "markdown",
   "id": "1f60e7e3",
   "metadata": {},
   "source": [
    "```mermaid\n",
    "flowchart TD\n",
    "    A[Start Pipeline] --> B[Load Data]\n",
    "    B --> C[Validate Schema]\n",
    "\n",
    "    C --> D[Clean Data]\n",
    "    \n",
    "    D --> F[Transform Data]\n",
    "    \n",
    "    F --> G[Write to Database]\n",
    "\n",
    "    G --> H[End Pipeline]\n",
    "```"
   ]
  },
  {
   "cell_type": "code",
   "execution_count": null,
   "id": "29425b38",
   "metadata": {},
   "outputs": [],
   "source": [
    "import pandas as pd\n",
    "import sqlite3\n",
    "\n",
    "class DataCleaningPipeline:\n",
    "    def _load_data(self, filepath: str) -> None:\n",
    "        # Load data\n",
    "        df: pd.DataFrame = pd.read_csv(filepath)\n",
    "        print(\"Data loaded successfully.\")\n",
    "        self.df = df\n",
    "\n",
    "    def _validate_columns(self) -> None:\n",
    "        # Validate columns\n",
    "        if not all(col in self.df.columns for col in [\"id\", \"name\", \"email\", \"signup_date\"]):\n",
    "            print(\"Missing some columns...\")\n",
    "    \n",
    "    def _clean_data(self) -> None:\n",
    "        # Clean data - Data Cleaning\n",
    "        self.df[\"email\"] = self.df[\"email\"].str.lower()\n",
    "        self.df[\"signup_date\"] = pd.to_datetime(self.df[\"signup_date\"])\n",
    "        self.df = self.df.dropna(subset=[\"id\", \"email\"])\n",
    "        print(\"Cleaning done.\")\n",
    "\n",
    "    def _transform_data(self) -> None:\n",
    "        # Transform data - Feature Engineering\n",
    "        self.df[\"days_since_signup\"] = pd.Timestamp.now() - self.df[\"signup_date\"].dt.days\n",
    "\n",
    "    def _save_to_db(self) -> None:\n",
    "        # Save to database\n",
    "        conn = sqlite3.connect(\"data/cleaned_customers.db\")\n",
    "        df.to_sql(\"customers\", conn, if_exists=\"replace\", index=False)\n",
    "        conn.close()\n",
    "        print(\"Data written to database.\")\n",
    "\n",
    "    def run(self, filepath: str):\n",
    "        # Run the pipeline\n",
    "        self._load_data(filepath)\n",
    "        self._validate_columns()\n",
    "        self._clean_data()\n",
    "        self._transform_data()\n",
    "        self._save_to_db()\n",
    "\n",
    "        print(\"Pipeline finished.\")\n",
    "\n",
    "\n",
    "filepath=\"data/customers.csv\"\n",
    "\n"
   ]
  },
  {
   "cell_type": "code",
   "execution_count": null,
   "id": "8c9a67dc",
   "metadata": {},
   "outputs": [],
   "source": [
    "dcp = DataCleaningPipeline()"
   ]
  },
  {
   "cell_type": "code",
   "execution_count": null,
   "id": "aad68d40",
   "metadata": {},
   "outputs": [],
   "source": [
    "dcp = DataCleaningPipeline()\n",
    "dcp._load_data(34)"
   ]
  },
  {
   "cell_type": "code",
   "execution_count": null,
   "id": "af5f87f8",
   "metadata": {},
   "outputs": [],
   "source": [
    "from typing import Protocol\n",
    "\n",
    "class HasSuperMethod(Protocol):\n",
    "    def supermethod(self):\n",
    "        pass\n",
    "\n",
    "class DadClass():\n",
    "    def supermethod(self):\n",
    "        pass\n",
    "\n",
    "class ChildClass1(DadClass):\n",
    "    pass\n",
    "\n",
    "class ChildClass2(DadClass):\n",
    "    def supermethod(self):\n",
    "        raise NotImplementedError\n",
    "\n",
    "class ChildClass3:\n",
    "    def supermethod(self):\n",
    "        print(\"Hello world\")\n",
    "\n",
    "def megacool_function(thing):\n",
    "    print(\"Calling supermethod\")\n",
    "    thing.supermethod()\n",
    "    print(\"That was all\")\n",
    "\n",
    "thing = DadClass()\n",
    "\n",
    "megacool_function(thing: HasSuperMethod)"
   ]
  }
 ],
 "metadata": {
  "kernelspec": {
   "display_name": "oop-software-arch-dsr",
   "language": "python",
   "name": "python3"
  },
  "language_info": {
   "name": "python",
   "version": "3.13.2"
  }
 },
 "nbformat": 4,
 "nbformat_minor": 5
}
