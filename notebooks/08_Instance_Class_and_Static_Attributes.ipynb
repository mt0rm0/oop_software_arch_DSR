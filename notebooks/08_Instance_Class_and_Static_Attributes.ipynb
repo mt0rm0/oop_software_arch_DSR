{
 "cells": [
  {
   "cell_type": "markdown",
   "metadata": {},
   "source": [
    "# OOP 8: Instance, Class, and Static Attributes (and Methods) in Python\n",
    "\n",
    "In this notebook, we'll explore instance, class, and static attributes and methods in Python. We'll look at how they differ, how to define them, and their use cases.\n",
    "\n",
    "## Table of Contents\n",
    "\n",
    "1. [Instance Attributes and Methods](#1)\n",
    "2. [Class Attributes and Methods](#2)\n",
    "3. [Static Methods](#3)\n",
    "4. [Comparing Instance, Class, and Static Methods](#4)\n",
    "5. [Step-by-Step Example](#5)\n",
    "6. [Exercise: Implementing a Data Processing Class](#6)\n"
   ]
  },
  {
   "cell_type": "markdown",
   "metadata": {},
   "source": [
    "---\n",
    "## 1. Instance Attributes and Methods <a id=\"1\"></a>\n",
    "\n",
    "Instance attributes and methods belong to individual instances of a class. Each object of the class has its own copy of instance attributes, and instance methods can access and modify these attributes.\n",
    "\n",
    "### Example\n",
    "\n",
    "In this example, `name` is an instance attribute, and `bark` is an instance method.\n"
   ]
  },
  {
   "cell_type": "code",
   "execution_count": null,
   "metadata": {},
   "outputs": [],
   "source": [
    "class Dog:\n",
    "    def __init__(self, name):\n",
    "        self.name = name  # Instance attribute\n",
    "    \n",
    "    def bark(self):\n",
    "        return f\"{self.name} says Woof!\"  # Instance method\n",
    "\n",
    "dog1 = Dog(\"Buddy\")\n",
    "dog2 = Dog(\"Rex\")\n",
    "\n",
    "print(dog1.bark())  # Buddy says Woof!\n",
    "print(dog2.bark())  # Rex says Woof!"
   ]
  },
  {
   "cell_type": "markdown",
   "metadata": {},
   "source": [
    "---\n",
    "## 2. Class Attributes and Methods <a id=\"2\"></a>\n",
    "\n",
    "Class attributes and methods are shared among all instances of a class. Class attributes are defined within the class but outside any instance methods. Class methods are defined using the `@classmethod` decorator and take `cls` as the first parameter.\n",
    "\n",
    "### Example\n",
    "In this example, `species` is a class attribute, and `get_species` is a class method.\n"
   ]
  },
  {
   "cell_type": "code",
   "execution_count": null,
   "metadata": {},
   "outputs": [],
   "source": [
    "class Dog:\n",
    "    species = \"Canis lupus familiaris\"  # Class attribute\n",
    "    \n",
    "    def __init__(self, name):\n",
    "        self.name = name  # Instance attribute\n",
    "    \n",
    "    @classmethod\n",
    "    def get_species(cls):\n",
    "        return cls.species  # Class method\n",
    "\n",
    "dog1 = Dog(\"Buddy\")\n",
    "dog2 = Dog(\"Rex\")\n",
    "\n",
    "print(Dog.get_species())  # Canis lupus familiaris\n",
    "print(dog1.get_species())  # Canis lupus familiaris\n",
    "print(dog2.get_species())  # Canis lupus familiaris"
   ]
  },
  {
   "cell_type": "markdown",
   "metadata": {},
   "source": [
    "---\n",
    "## 3. Static Methods <a id=\"3\"></a>\n",
    "\n",
    "Static methods are defined using the `@staticmethod` decorator and do not take `self` or `cls` as the first parameter. They are not bound to instances or the class and do not modify class or instance state.\n",
    "\n",
    "### Example\n",
    "\n",
    "In this example, `add` and `multiply` are static methods.\n"
   ]
  },
  {
   "cell_type": "code",
   "execution_count": null,
   "metadata": {},
   "outputs": [],
   "source": [
    "class MathOperations:\n",
    "    @staticmethod\n",
    "    def add(x, y):\n",
    "        return x + y  # Static method\n",
    "    \n",
    "    @staticmethod\n",
    "    def multiply(x, y):\n",
    "        return x * y  # Static method\n",
    "\n",
    "print(MathOperations.add(5, 3))  # 8\n",
    "print(MathOperations.multiply(5, 3))  # 15"
   ]
  },
  {
   "cell_type": "markdown",
   "metadata": {},
   "source": [
    "---\n",
    "## 4. Comparing Instance, Class, and Static Methods <a id=\"4\"></a>\n",
    "\n",
    "Here's a summary of the differences between instance, class, and static methods:\n",
    "\n",
    "- **Instance Methods**: Access and modify instance attributes. Defined with `def` and take `self` as the first parameter.\n",
    "- **Class Methods**: Access and modify class attributes. Defined with `@classmethod` and take `cls` as the first parameter.\n",
    "- **Static Methods**: Do not access or modify class or instance attributes. Defined with `@staticmethod` and do not take `self` or `cls` as the first parameter.\n",
    "\n",
    "### Example"
   ]
  },
  {
   "cell_type": "code",
   "execution_count": null,
   "metadata": {},
   "outputs": [],
   "source": [
    "class Example:\n",
    "    class_attr = \"I am a class attribute\"\n",
    "    \n",
    "    def __init__(self, instance_attr):\n",
    "        self.instance_attr = instance_attr  # Instance attribute\n",
    "    \n",
    "    def instance_method(self):\n",
    "        return f\"Instance method accessed: {self.instance_attr}\"\n",
    "    \n",
    "    @classmethod\n",
    "    def class_method(cls):\n",
    "        return f\"Class method accessed: {cls.class_attr}\"\n",
    "    \n",
    "    @staticmethod\n",
    "    def static_method():\n",
    "        return \"Static method accessed\"\n",
    "\n",
    "example = Example(\"I am an instance attribute\")\n",
    "\n",
    "print(example.instance_method())  # Instance method accessed: I am an instance attribute\n",
    "print(Example.class_method())     # Class method accessed: I am a class attribute\n",
    "print(Example.static_method())    # Static method accessed"
   ]
  },
  {
   "cell_type": "markdown",
   "metadata": {},
   "source": [
    "---\n",
    "## 5. Step-by-Step Example <a id=\"5\"></a>\n",
    "\n",
    "Let's create a comprehensive example by implementing a class that handles various operations on a dataset. We'll use instance, class, and static methods to achieve this.\n",
    "\n",
    "### Step-by-Step Example\n",
    "In this example, we have a class `DataProcessor` with an instance attribute `data`, class attribute `data_source`, instance method `summary`, class methods `set_data_source` and `get_data_source`, and static method `clean_data`.\n"
   ]
  },
  {
   "cell_type": "code",
   "execution_count": null,
   "metadata": {},
   "outputs": [],
   "source": [
    "import pandas as pd\n",
    "\n",
    "class DataProcessor:\n",
    "    \"\"\"\n",
    "    A class for processing data with instance, class, and static methods.\n",
    "    \"\"\"\n",
    "    data_source = \"Default Data Source\"  # Class attribute\n",
    "    \n",
    "    def __init__(self, data):\n",
    "        self.data = data  # Instance attribute\n",
    "    \n",
    "    def summary(self):\n",
    "        \"\"\"\n",
    "        Instance method to return a summary of the dataset.\n",
    "        \"\"\"\n",
    "        return self.data.describe()\n",
    "    \n",
    "    @classmethod\n",
    "    def set_data_source(cls, source):\n",
    "        \"\"\"\n",
    "        Class method to set the data source.\n",
    "        \"\"\"\n",
    "        cls.data_source = source\n",
    "    \n",
    "    @classmethod\n",
    "    def get_data_source(cls):\n",
    "        \"\"\"\n",
    "        Class method to get the data source.\n",
    "        \"\"\"\n",
    "        return cls.data_source\n",
    "    \n",
    "    @staticmethod\n",
    "    def clean_data(data):\n",
    "        \"\"\"\n",
    "        Static method to clean the data.\n",
    "        \"\"\"\n",
    "        return data.dropna()\n",
    "\n",
    "# Usage\n",
    "data = pd.DataFrame({\n",
    "    'age': [25, 30, 35, 40, None],\n",
    "    'salary': [50000, 60000, 70000, 80000, 90000]\n",
    "})\n",
    "\n",
    "processor = DataProcessor(data)\n",
    "\n",
    "# Instance method\n",
    "print(processor.summary())\n",
    "\n",
    "# Class methods\n",
    "print(DataProcessor.get_data_source())\n",
    "DataProcessor.set_data_source(\"New Data Source\")\n",
    "print(DataProcessor.get_data_source())\n",
    "\n",
    "# Static method\n",
    "cleaned_data = DataProcessor.clean_data(data)\n",
    "print(cleaned_data)"
   ]
  },
  {
   "cell_type": "markdown",
   "metadata": {},
   "source": [
    "---\n",
    "## 6. Exercise: Implementing a Data Processing Class <a id=\"6\"></a>\n",
    "\n",
    "In this exercise, you will create a class that handles basic data operations. The class should include instance, class, and static methods.\n",
    "\n",
    "### Specifications:\n",
    "\n",
    "1. **Instance Method**: `add_record(self, record)` - Adds a new record (row) to the dataset.\n",
    "2. **Class Method**: `set_default_columns(cls, columns)` - Sets default column names for the dataset.\n",
    "3. **Static Method**: `validate_record(record)` - Validates if a record has the correct number of columns."
   ]
  },
  {
   "cell_type": "markdown",
   "metadata": {},
   "source": [
    "### Example Usage:\n",
    "\n",
    "```python\n",
    "# Test your implementation with the example usage provided\n",
    "data = pd.DataFrame(columns=DataHandler.default_columns)\n",
    "handler = DataHandler(data)\n",
    "\n",
    "handler.add_record(['Alice', 30, 70000])\n",
    "print(handler.data)\n",
    "\n",
    "DataHandler.set_default_columns(['name', 'age', 'salary', 'department'])\n",
    "print(DataHandler.default_columns)\n",
    "\n",
    "record_valid = DataHandler.validate_record(['Bob', 25, 60000, 'HR'])\n",
    "print(record_valid)\n",
    "```"
   ]
  },
  {
   "cell_type": "markdown",
   "metadata": {},
   "source": [
    "### Implementation:\n",
    "\n",
    "Implement the `DataHandler` class according to the specifications above."
   ]
  },
  {
   "cell_type": "code",
   "execution_count": null,
   "metadata": {},
   "outputs": [],
   "source": [
    "# Implementation\n"
   ]
  },
  {
   "cell_type": "markdown",
   "metadata": {},
   "source": [
    "><details>\n",
    "><summary>Do you need some help?</summary>\n",
    ">### Tips:\n",
    ">\n",
    ">- Make sure to follow best practices for defining instance, class, and static methods.\n",
    ">- Test each method to ensure it behaves as expected.\n",
    ">- Use pandas functions to simplify operations where possible.\n",
    ">\n",
    "> Here is a working solution:\n",
    "> ```python\n",
    ">import pandas as pd\n",
    ">\n",
    ">class DataHandler:\n",
    ">    \"\"\"\n",
    ">    A class to handle data operations with instance, class, and static methods.\n",
    ">    \"\"\"\n",
    ">    default_columns = ['name', 'age', 'salary']\n",
    ">    \n",
    ">    def __init__(self, data):\n",
    ">        self.data = data  # Instance attribute\n",
    ">    \n",
    ">    def add_record(self, record):\n",
    ">        \"\"\"\n",
    ">        Instance method to add a new record to the dataset.\n",
    ">        \"\"\"\n",
    ">        if self.validate_record(record):\n",
    ">            new_row = pd.Series(record, index=self.data.columns)\n",
    ">            self.data = self.data.append(new_row, ignore_index=True)\n",
    ">        else:\n",
    ">            raise ValueError(\"Record does not have the correct number of columns\")\n",
    ">    \n",
    ">    @classmethod\n",
    ">    def set_default_columns(cls, columns):\n",
    ">        \"\"\"\n",
    ">        Class method to set default column names.\n",
    ">        \"\"\"\n",
    ">        cls.default_columns = columns\n",
    ">    \n",
    ">    @staticmethod\n",
    ">    def validate_record(record):\n",
    ">        \"\"\"\n",
    ">        Static method to validate a record.\n",
    ">        \"\"\"\n",
    ">        return len(record) == len(DataHandler.default_columns)\n",
    "> ```"
   ]
  },
  {
   "cell_type": "markdown",
   "metadata": {},
   "source": []
  },
  {
   "cell_type": "code",
   "execution_count": null,
   "metadata": {},
   "outputs": [],
   "source": [
    "# Test your implementation with the example usage provided\n",
    "data = pd.DataFrame(columns=DataHandler.default_columns)\n",
    "handler = DataHandler(data)\n",
    "\n",
    "handler.add_record(['Alice', 30, 70000])\n",
    "print(handler.data)\n",
    "\n",
    "DataHandler.set_default_columns(['name', 'age', 'salary', 'department'])\n",
    "print(DataHandler.default_columns)\n",
    "\n",
    "record_valid = DataHandler.validate_record(['Bob', 25, 60000, 'HR'])\n",
    "print(record_valid)"
   ]
  },
  {
   "cell_type": "code",
   "execution_count": null,
   "metadata": {},
   "outputs": [],
   "source": []
  },
  {
   "cell_type": "markdown",
   "metadata": {},
   "source": []
  }
 ],
 "metadata": {
  "kernelspec": {
   "display_name": "Python 3",
   "language": "python",
   "name": "python3"
  },
  "language_info": {
   "codemirror_mode": {
    "name": "ipython",
    "version": 3
   },
   "file_extension": ".py",
   "mimetype": "text/x-python",
   "name": "python",
   "nbconvert_exporter": "python",
   "pygments_lexer": "ipython3",
   "version": "3.11.4"
  }
 },
 "nbformat": 4,
 "nbformat_minor": 2
}
