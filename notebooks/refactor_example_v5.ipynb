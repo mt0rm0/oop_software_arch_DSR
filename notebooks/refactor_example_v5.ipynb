{
 "cells": [
  {
   "cell_type": "markdown",
   "id": "952545db",
   "metadata": {
    "vscode": {
     "languageId": "plaintext"
    }
   },
   "source": [
    "# Refactoring Example - Step 5: Creating specific service classes"
   ]
  },
  {
   "cell_type": "code",
   "execution_count": null,
   "id": "ea29298f",
   "metadata": {
    "vscode": {
     "languageId": "plaintext"
    }
   },
   "outputs": [],
   "source": []
  }
 ],
 "metadata": {
  "language_info": {
   "name": "python"
  }
 },
 "nbformat": 4,
 "nbformat_minor": 5
}
