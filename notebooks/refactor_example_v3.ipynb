{
 "cells": [
  {
   "cell_type": "markdown",
   "id": "0cfc4169",
   "metadata": {},
   "source": [
    "# Refactoring Example - Step 3: Adding behaviour constraints / basic error handling"
   ]
  },
  {
   "cell_type": "markdown",
   "id": "ae3435b5",
   "metadata": {},
   "source": [
    "```mermaid\n",
    "flowchart TD\n",
    "    A[Start Pipeline] --> B[Load Data]\n",
    "    B -->|Success| C[Validate Schema]\n",
    "    B -->|File Not Found / Corrupted| E1[DataLoadError Logged & Continue]\n",
    "\n",
    "    C -->|Success| D[Clean Data]\n",
    "    C -->|Missing Columns| E2[SchemaValidationError Logged & Skip File]\n",
    "\n",
    "    D -->|Success| F[Transform Data]\n",
    "    D -->|Invalid Data| E3[DataCleaningError Logged & Drop Invalid Rows]\n",
    "\n",
    "    F -->|Success| G[Write to Database]\n",
    "    F -->|Transformation Error| E4[TransformationError Logged & Retry Step]\n",
    "\n",
    "    G -->|Success| H[End Pipeline]\n",
    "    G -->|Connection Error| E5[DatabaseWriteError Logged & Retry/Abort]\n",
    "\n",
    "    E1 --> B\n",
    "    E2 --> B\n",
    "    E3 --> D\n",
    "    E4 --> F\n",
    "    E5 --> G\n",
    "```"
   ]
  },
  {
   "cell_type": "code",
   "execution_count": null,
   "id": "952545db",
   "metadata": {
    "vscode": {
     "languageId": "plaintext"
    }
   },
   "outputs": [],
   "source": [
    "import pandas as pd\n",
    "import sqlite3\n",
    "\n",
    "class DataCleaningPipeline:\n",
    "    ..."
   ]
  }
 ],
 "metadata": {
  "language_info": {
   "name": "python"
  }
 },
 "nbformat": 4,
 "nbformat_minor": 5
}
