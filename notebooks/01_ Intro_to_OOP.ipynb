{
 "cells": [
  {
   "cell_type": "markdown",
   "metadata": {},
   "source": [
    "# OOP 1: Introduction to Classes and Objects\n",
    "\n",
    "In this notebook, we'll explore the basic concepts of Object-Oriented Programming (OOP) in Python, focusing on classes and objects. We'll use examples related to data science to illustrate these concepts.\n",
    "\n",
    "## Table of Contents\n",
    "\n",
    "1. [What is a Class?](#1)\n",
    "2. [Creating an Object](#2)\n",
    "3. [Defining Attributes](#3)\n",
    "4. [Defining Methods](#4)\n",
    "5. [Example: Data Scientist Class](#5)\n",
    "6. [Exercise: Build a Class](#6)\n"
   ]
  },
  {
   "cell_type": "markdown",
   "metadata": {},
   "source": [
    "---\n",
    "## 1. What is a Class? <a id=\"1\"></a>\n",
    "A class is a blueprint for creating objects. Classes encapsulate data and functions that operate on the data.\n",
    "\n",
    "**Syntax**:\n",
    "\n",
    "```python\n",
    "class ClassName:\n",
    "    # class attributes and methods\n",
    "```\n",
    "\n",
    "**Example**:\n",
    "\n",
    "Let's define a simple class `DataScientist`:\n",
    "\n"
   ]
  },
  {
   "cell_type": "code",
   "execution_count": 15,
   "metadata": {},
   "outputs": [],
   "source": [
    "class DataScientist:\n",
    "    pass"
   ]
  },
  {
   "cell_type": "markdown",
   "metadata": {},
   "source": [
    "This defines a new class `DataScientist` with no attributes or methods.\n"
   ]
  },
  {
   "cell_type": "markdown",
   "metadata": {},
   "source": [
    "---\n",
    "## 2. Creating an Object <a id=\"2\"></a>\n",
    "\n",
    "An object is an instance of a class. We can create an object by calling the class like a function.\n",
    "\n",
    "**Example**:\n"
   ]
  },
  {
   "cell_type": "code",
   "execution_count": 3,
   "metadata": {},
   "outputs": [
    {
     "name": "stdout",
     "output_type": "stream",
     "text": [
      "<__main__.DataScientist object at 0x000001EC8A862660>\n"
     ]
    }
   ],
   "source": [
    "# Creating an object of the DataScientist class\n",
    "person1 = DataScientist()\n",
    "print(person1)"
   ]
  },
  {
   "cell_type": "markdown",
   "metadata": {},
   "source": [
    "What can we do with an instance of that class?"
   ]
  },
  {
   "cell_type": "code",
   "execution_count": 4,
   "metadata": {},
   "outputs": [],
   "source": [
    "person1.height = 1.80\n"
   ]
  },
  {
   "cell_type": "code",
   "execution_count": 5,
   "metadata": {},
   "outputs": [
    {
     "data": {
      "text/plain": [
       "1.8"
      ]
     },
     "execution_count": 5,
     "metadata": {},
     "output_type": "execute_result"
    }
   ],
   "source": [
    "person1.height"
   ]
  },
  {
   "cell_type": "code",
   "execution_count": 16,
   "metadata": {},
   "outputs": [],
   "source": [
    "person2 = DataScientist()\n"
   ]
  },
  {
   "cell_type": "code",
   "execution_count": 19,
   "metadata": {},
   "outputs": [
    {
     "data": {
      "text/plain": [
       "__main__.DataScientist"
      ]
     },
     "execution_count": 19,
     "metadata": {},
     "output_type": "execute_result"
    }
   ],
   "source": [
    "type(person2)"
   ]
  },
  {
   "cell_type": "markdown",
   "metadata": {},
   "source": [
    "---\n",
    "## 3. Defining Attributes <a id=\"3\"></a>"
   ]
  },
  {
   "cell_type": "markdown",
   "metadata": {},
   "source": [
    "### Instance Attributes\n",
    "Instance attributes are specific to each object created from a class. They are defined within the `__init__` method.\n",
    "\n",
    "**Example**"
   ]
  },
  {
   "cell_type": "code",
   "execution_count": 25,
   "metadata": {},
   "outputs": [
    {
     "name": "stdout",
     "output_type": "stream",
     "text": [
      "Alice Senior\n",
      "Bob Junior\n"
     ]
    }
   ],
   "source": [
    "class DataScientist:\n",
    "    def __init__(self, name=None, expertise_level=None):\n",
    "        self.name = name\n",
    "        self.expertise_level = expertise_level\n",
    "\n",
    "### Creating objects with instance attributes\n",
    "ds1 = DataScientist(\"Alice\", \"Senior\")\n",
    "ds2 = DataScientist(\"Bob\", \"Junior\")\n",
    "\n",
    "print(ds1.name, ds1.expertise_level)\n",
    "print(ds2.name, ds2.expertise_level)"
   ]
  },
  {
   "cell_type": "markdown",
   "metadata": {},
   "source": [
    "### Class Attributes\n",
    "\n",
    "Class attributes are shared by all instances of a class. They are defined directly within the class, outside any methods.\n",
    "\n",
    "**Example**"
   ]
  },
  {
   "cell_type": "code",
   "execution_count": 30,
   "metadata": {},
   "outputs": [
    {
     "name": "stdout",
     "output_type": "stream",
     "text": [
      "0\n",
      "1\n",
      "2\n",
      "Data Scientist\n",
      "Data Scientist\n",
      "Data Scientist\n"
     ]
    }
   ],
   "source": [
    "class DataScientist:\n",
    "    count = 0\n",
    "    role = \"Data Scientist\"  # class attribute\n",
    "    \n",
    "    def __init__(self, name, expertise_level):\n",
    "        self.name = name\n",
    "        self.expertise_level = expertise_level\n",
    "        DataScientist.count += 1\n",
    "\n",
    "### Creating objects\n",
    "print(DataScientist.count)\n",
    "ds1 = DataScientist(\"Alice\", \"Senior\")\n",
    "print(DataScientist.count)\n",
    "ds2 = DataScientist(\"Bob\", \"Junior\")\n",
    "print(DataScientist.count)\n",
    "\n",
    "print(ds1.role)\n",
    "print(ds2.role)\n",
    "print(DataScientist.role)  # Accessing the class attribute directly"
   ]
  },
  {
   "cell_type": "markdown",
   "metadata": {},
   "source": [
    "---\n",
    "## 4. Defining Methods <a id=\"4\"></a>\n",
    "\n",
    "Methods are functions that belong to a class. They define behaviors for the objects.\n",
    "\n",
    "**Example**:"
   ]
  },
  {
   "cell_type": "code",
   "execution_count": 8,
   "metadata": {},
   "outputs": [
    {
     "name": "stdout",
     "output_type": "stream",
     "text": [
      "My name is Alice and I am a Senior Data Scientist.\n"
     ]
    }
   ],
   "source": [
    "class DataScientist:\n",
    "    def __init__(self, name, expertise_level):\n",
    "        self.name = name\n",
    "        self.expertise_level = expertise_level\n",
    "\n",
    "    def introduce(self):\n",
    "        print(f\"My name is {self.name} and I am a {self.expertise_level} Data Scientist.\")\n",
    "\n",
    "### Creating an object and calling a method\n",
    "ds1 = DataScientist(\"Alice\", \"Senior\")\n",
    "ds1.introduce()"
   ]
  },
  {
   "cell_type": "markdown",
   "metadata": {},
   "source": [
    "### Method with Parameters"
   ]
  },
  {
   "cell_type": "code",
   "execution_count": 9,
   "metadata": {},
   "outputs": [
    {
     "name": "stdout",
     "output_type": "stream",
     "text": [
      "Alice has acquired a new skill: Machine Learning\n"
     ]
    }
   ],
   "source": [
    "class DataScientist:\n",
    "    def __init__(self, name, expertise_level):\n",
    "        self.name = name\n",
    "        self.expertise_level = expertise_level\n",
    "\n",
    "    def add_skill(self, skill):\n",
    "        print(f\"{self.name} has acquired a new skill: {skill}\")\n",
    "\n",
    "### Adding a skill to a Data Scientist\n",
    "ds1 = DataScientist(\"Alice\", \"Senior\")\n",
    "ds1.add_skill(\"Machine Learning\")"
   ]
  },
  {
   "cell_type": "markdown",
   "metadata": {},
   "source": [
    "---\n",
    "## 5. Example: Data Scientist Class <a id=\"5\"></a>\n",
    "\n",
    "Let's create a class `DataScientist` to illustrate the concepts we've learned so far. This class will include attributes for a data scientist's name, programming languages, and projects. We'll also define methods to add new languages and projects.\n",
    "\n",
    "**Step-by-Step Example**:"
   ]
  },
  {
   "cell_type": "code",
   "execution_count": 38,
   "metadata": {},
   "outputs": [
    {
     "name": "stdout",
     "output_type": "stream",
     "text": [
      "Data Scientist: Bob\n",
      "Known Languages: Python, R\n",
      "Projects: Customer Segmentation\n",
      "Data Scientist: Carol\n",
      "Known Languages: Python, SQL\n",
      "Projects: Sales Prediction\n"
     ]
    }
   ],
   "source": [
    "class DataScientist:\n",
    "    def __init__(self, name, languages=[], projects=None) -> None:\n",
    "        self.name = name\n",
    "        self.languages = languages\n",
    "        self.projects = projects if projects is not None else []\n",
    "\n",
    "    def add_language(self, language):\n",
    "        if language not in self.languages:\n",
    "            self.languages.append(language)\n",
    "        else:\n",
    "            print(f\"{language} is already known.\")\n",
    "\n",
    "    def add_project(self, project):\n",
    "        self.projects.append(project)\n",
    "\n",
    "    def display_info(self):\n",
    "        print(f\"Data Scientist: {self.name}\")\n",
    "        print(f\"Known Languages: {', '.join(self.languages)}\")\n",
    "        print(f\"Projects: {', '.join(self.projects)}\")\n",
    "\n",
    "# Creating a DataScientist object\n",
    "ds1 = DataScientist(\"Bob\")\n",
    "ds1.add_language(\"Python\")\n",
    "ds1.add_language(\"R\")\n",
    "ds1.add_project(\"Customer Segmentation\")\n",
    "ds1.display_info()\n",
    "\n",
    "# Creating another DataScientist object with initial data\n",
    "ds2 = DataScientist(\"Carol\", languages=[\"Python\", \"SQL\"], projects=[\"Sales Prediction\"])\n",
    "ds2.display_info()"
   ]
  },
  {
   "cell_type": "code",
   "execution_count": 40,
   "metadata": {},
   "outputs": [
    {
     "data": {
      "text/plain": [
       "{}"
      ]
     },
     "execution_count": 40,
     "metadata": {},
     "output_type": "execute_result"
    }
   ],
   "source": [
    "DataScientist.__annotations__"
   ]
  },
  {
   "cell_type": "markdown",
   "metadata": {},
   "source": [
    "**Explanation**\n",
    "\n",
    "1. **Class Definition**: We define a DataScientist class with an `__init__` method to initialize the attributes.\n",
    "\n",
    "2. **Adding Languages**: We add a method `add_language` to add new programming languages.\n",
    "\n",
    "3. **Adding Projects**: We add a method `add_project` to add new projects.\n",
    "\n",
    "4. **Displaying Information**: We add a method `display_info` to print out the data scientist's details.\n"
   ]
  },
  {
   "cell_type": "markdown",
   "metadata": {},
   "source": [
    "---\n",
    "## 6. Exercise: Build a Class <a id=\"6\"></a>\n",
    "\n",
    "Create a class `DataFrameAnalyzer` from scratch. This class will be used to analyze *pandas* DataFrames. Implement the class with the following functionalities:\n",
    "\n",
    "**Requirements**\n",
    "\n",
    "- Class Initialization: The class should be initialized with a pandas DataFrame.\n",
    "\n",
    "- Methods to Implement:\n",
    "    - `get_summary()`: Returns a summary of the DataFrame's statistics using dataframe.describe().\n",
    "    - `get_missing_values()`: Returns the number of missing values in each column.\n",
    "    - `get_column_types()`: Returns the data types of each column.\n",
    "\n",
    " You can find references to the pandas API [here](https://pandas.pydata.org/docs/reference/index.html)."
   ]
  },
  {
   "cell_type": "code",
   "execution_count": 34,
   "metadata": {},
   "outputs": [],
   "source": [
    "import pandas as pd\n",
    "\n",
    "class DataFrameAnalyzer:\n",
    "    def __init__(self, dataframe: pd.DataFrame):\n",
    "        self.dataframe = dataframe\n",
    "\n",
    "    def get_summary(self):\n",
    "        return self.dataframe.describe()\n",
    "    \n",
    "    def get_missing_values(self):\n",
    "        return self.dataframe.isnull().sum()\n",
    "\n",
    "    def get_column_types(self):\n",
    "        return self.dataframe.dtypes\n"
   ]
  },
  {
   "cell_type": "markdown",
   "metadata": {},
   "source": [
    "><details>\n",
    "><summary>Do you need some help?</summary>\n",
    "> \n",
    "> Here is a working solution:\n",
    "> \n",
    "> ```python\n",
    "> import pandas as pd\n",
    ">\n",
    "> class DataFrameAnalyzer:\n",
    ">    def __init__(self, dataframe):\n",
    ">        self.dataframe = dataframe\n",
    ">\n",
    ">    def get_summary(self):\n",
    ">        return self.dataframe.describe()\n",
    ">\n",
    ">    def get_missing_values(self):\n",
    ">        return self.dataframe.isnull().sum()\n",
    ">\n",
    ">    def get_column_types(self):\n",
    ">        return self.dataframe.dtypes\n",
    "> ```\n",
    "\n",
    "Try now if your code worked as expected. Run the following cell:"
   ]
  },
  {
   "cell_type": "code",
   "execution_count": 35,
   "metadata": {},
   "outputs": [
    {
     "name": "stdout",
     "output_type": "stream",
     "text": [
      "Summary Statistics:\n",
      "              age        salary\n",
      "count   4.000000      5.000000\n",
      "mean   32.500000  70000.000000\n",
      "std     6.454972  15811.388301\n",
      "min    25.000000  50000.000000\n",
      "25%    28.750000  60000.000000\n",
      "50%    32.500000  70000.000000\n",
      "75%    36.250000  80000.000000\n",
      "max    40.000000  90000.000000\n",
      "\n",
      "Missing Values:\n",
      " age       1\n",
      "salary    0\n",
      "dtype: int64\n",
      "\n",
      "Column Types:\n",
      " age       float64\n",
      "salary      int64\n",
      "dtype: object\n"
     ]
    }
   ],
   "source": [
    "# Creating a sample DataFrame\n",
    "data = {\n",
    "    'age': [25, 30, 35, 40, None],\n",
    "    'salary': [50000, 60000, 70000, 80000, 90000]\n",
    "}\n",
    "df = pd.DataFrame(data)\n",
    "\n",
    "# Creating a DataFrameAnalyzer object\n",
    "analyzer = DataFrameAnalyzer(df)\n",
    "\n",
    "# Using the methods\n",
    "print(\"Summary Statistics:\\n\", analyzer.get_summary())\n",
    "print(\"\\nMissing Values:\\n\", analyzer.get_missing_values())\n",
    "print(\"\\nColumn Types:\\n\", analyzer.get_column_types())"
   ]
  }
 ],
 "metadata": {
  "kernelspec": {
   "display_name": "Python 3",
   "language": "python",
   "name": "python3"
  },
  "language_info": {
   "codemirror_mode": {
    "name": "ipython",
    "version": 3
   },
   "file_extension": ".py",
   "mimetype": "text/x-python",
   "name": "python",
   "nbconvert_exporter": "python",
   "pygments_lexer": "ipython3",
   "version": "3.12.5"
  }
 },
 "nbformat": 4,
 "nbformat_minor": 2
}
