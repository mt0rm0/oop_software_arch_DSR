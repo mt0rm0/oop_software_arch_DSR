{
 "cells": [
  {
   "cell_type": "markdown",
   "id": "d7d9808b",
   "metadata": {
    "papermill": {
     "duration": 0.025935,
     "end_time": "2024-06-14T18:03:26.456650",
     "exception": false,
     "start_time": "2024-06-14T18:03:26.430715",
     "status": "completed"
    },
    "tags": []
   },
   "source": [
    "## Goal\n",
    "\n",
    "\n",
    "The goal is to use various factors to predict obesity risk in individuals, which is related to cardiovascular disease.\n",
    "     \n",
    "## About the Dataset\n",
    "    \n",
    "The data consist of the estimation of obesity levels in people from the countries of Mexico, Peru and Colombia, with ages between 14 and 61 and diverse eating habits and physical condition, data was generated from a deep learning model trained on the [Obesity risk dataset](https://www.kaggle.com/datasets/aravindpcoder/obesity-or-cvd-risk-classifyregressorcluster).  "
   ]
  },
  {
   "cell_type": "markdown",
   "id": "f8d113a7",
   "metadata": {
    "papermill": {
     "duration": 0.024715,
     "end_time": "2024-06-14T18:03:26.506140",
     "exception": false,
     "start_time": "2024-06-14T18:03:26.481425",
     "status": "completed"
    },
    "tags": []
   },
   "source": [
    "\n",
    "<a id=\"toc\"></a>\n",
    "\n",
    "- [1.1 Import Libraries](#1.1)\n",
    "- [1.2 Import Data](#1.2)\n",
    "- [1.3 Quick overview](#1.3)\n",
    "- [1.4 Summary of the data](#1.4)\n",
    "- [2. Exploratory Data Analysis ](#2)\n",
    "- [3. Pre-Processing](#3)\n",
    "- [4. Model building](#4)\n",
    "- [5. Prediction on Test data](#5)\n"
   ]
  },
  {
   "cell_type": "markdown",
   "id": "abbf182e",
   "metadata": {
    "papermill": {
     "duration": 0.023999,
     "end_time": "2024-06-14T18:03:26.554293",
     "exception": false,
     "start_time": "2024-06-14T18:03:26.530294",
     "status": "completed"
    },
    "tags": []
   },
   "source": [
    "<a id=\"1.1\"></a>\n",
    "## <b>1.1 <span style='color:#E1B12D'>Import Libraries</span></b> "
   ]
  },
  {
   "cell_type": "code",
   "execution_count": null,
   "id": "cfb106bc",
   "metadata": {
    "_kg_hide-input": true,
    "execution": {
     "iopub.execute_input": "2024-06-14T18:03:26.605646Z",
     "iopub.status.busy": "2024-06-14T18:03:26.604603Z",
     "iopub.status.idle": "2024-06-14T18:03:44.040782Z",
     "shell.execute_reply": "2024-06-14T18:03:44.039384Z"
    },
    "papermill": {
     "duration": 17.465281,
     "end_time": "2024-06-14T18:03:44.043923",
     "exception": false,
     "start_time": "2024-06-14T18:03:26.578642",
     "status": "completed"
    },
    "tags": []
   },
   "outputs": [],
   "source": [
    "%%capture\n",
    "!pip install scikit-learn xgboost lightgbm catboost"
   ]
  },
  {
   "cell_type": "code",
   "execution_count": null,
   "id": "b622176b",
   "metadata": {
    "_kg_hide-input": false,
    "_kg_hide-output": true,
    "execution": {
     "iopub.execute_input": "2024-06-14T18:03:44.094977Z",
     "iopub.status.busy": "2024-06-14T18:03:44.094560Z",
     "iopub.status.idle": "2024-06-14T18:03:49.217082Z",
     "shell.execute_reply": "2024-06-14T18:03:49.215491Z"
    },
    "papermill": {
     "duration": 5.152824,
     "end_time": "2024-06-14T18:03:49.221447",
     "exception": false,
     "start_time": "2024-06-14T18:03:44.068623",
     "status": "completed"
    },
    "tags": []
   },
   "outputs": [],
   "source": [
    "%%capture\n",
    "import pandas as pd\n",
    "import numpy as np\n",
    "\n",
    "import seaborn as sns\n",
    "import matplotlib.pyplot as plt\n",
    "%matplotlib inline\n",
    "\n",
    "import warnings \n",
    "warnings.filterwarnings('ignore')\n",
    "\n",
    "from sklearn.metrics import roc_auc_score, accuracy_score\n",
    "from sklearn.preprocessing import LabelEncoder\n",
    "from sklearn.metrics import accuracy_score\n",
    "from sklearn.ensemble import RandomForestClassifier, GradientBoostingClassifier, AdaBoostClassifier\n",
    "from sklearn.linear_model import LogisticRegression\n",
    "from sklearn.svm import SVC\n",
    "from sklearn.neighbors import KNeighborsClassifier\n",
    "from sklearn.tree import DecisionTreeClassifier, ExtraTreeClassifier\n",
    "from xgboost import XGBClassifier\n",
    "from lightgbm import LGBMClassifier\n",
    "from catboost import CatBoostClassifier\n"
   ]
  },
  {
   "cell_type": "markdown",
   "id": "6ae7ef10",
   "metadata": {
    "papermill": {
     "duration": 0.023809,
     "end_time": "2024-06-14T18:03:49.350459",
     "exception": false,
     "start_time": "2024-06-14T18:03:49.326650",
     "status": "completed"
    },
    "tags": []
   },
   "source": [
    "<a id=\"toc\"></a>\n",
    "\n",
    "<a href=\"#toc\" style=\"background-color: #E1B12D; color: #ffffff; padding: 7px 10px; text-decoration: none; border-radius: 50px;\">Back to top</a><a id=\"toc\"></a>\n",
    "\n",
    "<a id=\"1.2\"></a>\n",
    "## <b>1.2 <span style='color:#E1B12D'>Import Data</span></b> "
   ]
  },
  {
   "cell_type": "code",
   "execution_count": null,
   "id": "33289374",
   "metadata": {},
   "outputs": [],
   "source": [
    "# Install the visual_eda package using the setuptools setup.py script found in setup.py\n",
    "# Only use this when the package is finished developing. \n",
    "# (It would be better to install this directly into your virtual environment) \n",
    "# %pip install -e .\n",
    "\n",
    "#Otherwise you can also append the folder to your sys path\n",
    "import os\n",
    "import sys\n",
    "project_root = os.getcwd()\n",
    "src_path = os.path.join(project_root, 'src')\n",
    "sys.path.append(src_path)\n",
    "\n"
   ]
  },
  {
   "cell_type": "code",
   "execution_count": null,
   "id": "83338144",
   "metadata": {
    "execution": {
     "iopub.execute_input": "2024-06-14T18:03:49.401216Z",
     "iopub.status.busy": "2024-06-14T18:03:49.400789Z",
     "iopub.status.idle": "2024-06-14T18:03:49.618614Z",
     "shell.execute_reply": "2024-06-14T18:03:49.617403Z"
    },
    "papermill": {
     "duration": 0.247177,
     "end_time": "2024-06-14T18:03:49.621659",
     "exception": false,
     "start_time": "2024-06-14T18:03:49.374482",
     "status": "completed"
    },
    "tags": []
   },
   "outputs": [],
   "source": [
    "\n",
    "from visual_eda.dataset import Dataset\n",
    "# original_data = Dataset('/kaggle/input/obesity-or-cvd-risk-classifyregressorcluster/ObesityDataSet.csv')\n",
    "train_data = Dataset('data/raw/train.csv')\n",
    "test_data = Dataset('data/raw/test.csv')\n",
    "print(str(train_data))\n",
    "print(str(test_data))\n",
    "train_data.summary()"
   ]
  },
  {
   "cell_type": "markdown",
   "id": "85973d68",
   "metadata": {
    "papermill": {
     "duration": 0.023972,
     "end_time": "2024-06-14T18:03:49.827576",
     "exception": false,
     "start_time": "2024-06-14T18:03:49.803604",
     "status": "completed"
    },
    "tags": []
   },
   "source": [
    "<a id=\"toc\"></a>\n",
    "\n",
    "<a href=\"#toc\" style=\"background-color: #E1B12D; color: #ffffff; padding: 7px 10px; text-decoration: none; border-radius: 50px;\">Back to top</a><a id=\"toc\"></a>\n",
    "\n",
    "<a id=\"1.3\"></a>\n",
    "## <b>1.3 <span style='color:#E1B12D'>Quick overview</span></b> "
   ]
  },
  {
   "cell_type": "code",
   "execution_count": null,
   "id": "bb2bbd43",
   "metadata": {
    "execution": {
     "iopub.execute_input": "2024-06-14T18:03:49.878778Z",
     "iopub.status.busy": "2024-06-14T18:03:49.877714Z",
     "iopub.status.idle": "2024-06-14T18:03:49.921620Z",
     "shell.execute_reply": "2024-06-14T18:03:49.920497Z"
    },
    "papermill": {
     "duration": 0.072274,
     "end_time": "2024-06-14T18:03:49.924247",
     "exception": false,
     "start_time": "2024-06-14T18:03:49.851973",
     "status": "completed"
    },
    "tags": []
   },
   "outputs": [],
   "source": [
    "#Let's check the samples of data\n",
    "display('Train:',train_data.data.head())\n",
    "display('Test:',test_data.data.head())"
   ]
  },
  {
   "cell_type": "markdown",
   "id": "572fc5f4",
   "metadata": {
    "papermill": {
     "duration": 0.025129,
     "end_time": "2024-06-14T18:03:49.974787",
     "exception": false,
     "start_time": "2024-06-14T18:03:49.949658",
     "status": "completed"
    },
    "tags": []
   },
   "source": [
    "The attributes related with eating habits are:"
   ]
  },
  {
   "cell_type": "code",
   "execution_count": null,
   "id": "6045bbe7",
   "metadata": {
    "_kg_hide-input": true,
    "execution": {
     "iopub.execute_input": "2024-06-14T18:03:50.027575Z",
     "iopub.status.busy": "2024-06-14T18:03:50.026715Z",
     "iopub.status.idle": "2024-06-14T18:03:50.061577Z",
     "shell.execute_reply": "2024-06-14T18:03:50.059980Z"
    },
    "papermill": {
     "duration": 0.064105,
     "end_time": "2024-06-14T18:03:50.064132",
     "exception": false,
     "start_time": "2024-06-14T18:03:50.000027",
     "status": "completed"
    },
    "tags": []
   },
   "outputs": [],
   "source": [
    "from tabulate import tabulate\n",
    "data = [\n",
    "    [\"FAVC\", \"Frequent consumption of high caloric food\"],\n",
    "    [\"FCVC\", \"Frequency of consumption of vegetables\"],\n",
    "    [\"NCP\", \"Number of main meals\"],\n",
    "    [\"CAEC\", \"Consumption of food between meals\"],\n",
    "    [\"CH20\", \"Consumption of water daily\"],\n",
    "    [\"CALC\", \"Consumption of alcohol\"],\n",
    "    [\"SCC\", \"Calories consumption monitoring\"],\n",
    "    [\"FAF\", \"Physical activity frequency\"],\n",
    "    [\"TUE\", \"Time using technology devices\"],\n",
    "    [\"MTRANS\", \"Transportation used\"]\n",
    "]\n",
    "headers = [\"Abbreviation\", \"Full Form\"]\n",
    "\n",
    "table = tabulate(data, headers, tablefmt=\"pipe\")\n",
    "print(table)"
   ]
  },
  {
   "cell_type": "markdown",
   "id": "8b0baea7",
   "metadata": {
    "papermill": {
     "duration": 0.025027,
     "end_time": "2024-06-14T18:03:50.114753",
     "exception": false,
     "start_time": "2024-06-14T18:03:50.089726",
     "status": "completed"
    },
    "tags": []
   },
   "source": [
    "<a id=\"toc\"></a>\n",
    "\n",
    "<a href=\"#toc\" style=\"background-color: #E1B12D; color: #ffffff; padding: 7px 10px; text-decoration: none; border-radius: 50px;\">Back to top</a><a id=\"toc\"></a>\n",
    "\n",
    "<a id=\"1.4\"></a>\n",
    "## <b>1.4 <span style='color:#E1B12D'>Summary of the data</span></b> "
   ]
  },
  {
   "cell_type": "code",
   "execution_count": null,
   "id": "0763d50f",
   "metadata": {},
   "outputs": [],
   "source": [
    "train_data.summary()"
   ]
  },
  {
   "cell_type": "markdown",
   "id": "d0f20f8b",
   "metadata": {
    "papermill": {
     "duration": 0.02688,
     "end_time": "2024-06-14T18:03:50.615020",
     "exception": false,
     "start_time": "2024-06-14T18:03:50.588140",
     "status": "completed"
    },
    "tags": []
   },
   "source": [
    "About Data:\n",
    "- The train dataset contains 20758 rows and 18 columns.\n",
    "- There are no missing or duplicate values in any of the columns.\n",
    "- Target Variable - Obesity Classification"
   ]
  },
  {
   "cell_type": "markdown",
   "id": "3ad99590",
   "metadata": {
    "papermill": {
     "duration": 0.026137,
     "end_time": "2024-06-14T18:03:50.667569",
     "exception": false,
     "start_time": "2024-06-14T18:03:50.641432",
     "status": "completed"
    },
    "tags": []
   },
   "source": [
    "<a id=\"toc\"></a>\n",
    "\n",
    "<a href=\"#toc\" style=\"background-color: #E1B12D; color: #ffffff; padding: 7px 10px; text-decoration: none; border-radius: 50px;\">Back to top</a><a id=\"toc\"></a>\n",
    "\n",
    "<a id=\"2\"></a>\n",
    "## <b>2 <span style='color:#E1B12D'> Exploratory Data Analysis</span></b> "
   ]
  },
  {
   "cell_type": "markdown",
   "id": "ef833347",
   "metadata": {
    "papermill": {
     "duration": 0.025867,
     "end_time": "2024-06-14T18:03:50.719806",
     "exception": false,
     "start_time": "2024-06-14T18:03:50.693939",
     "status": "completed"
    },
    "tags": []
   },
   "source": [
    "Let's visualize each of the variables:\n",
    "\n",
    "**Target Variable:**"
   ]
  },
  {
   "cell_type": "code",
   "execution_count": null,
   "id": "479bbc5a",
   "metadata": {
    "execution": {
     "iopub.execute_input": "2024-06-14T18:03:50.843805Z",
     "iopub.status.busy": "2024-06-14T18:03:50.843421Z",
     "iopub.status.idle": "2024-06-14T18:03:51.295943Z",
     "shell.execute_reply": "2024-06-14T18:03:51.294529Z"
    },
    "papermill": {
     "duration": 0.482757,
     "end_time": "2024-06-14T18:03:51.298473",
     "exception": false,
     "start_time": "2024-06-14T18:03:50.815716",
     "status": "completed"
    },
    "tags": []
   },
   "outputs": [],
   "source": [
    "# Plot for NObeyesdad\n",
    "train_data.show_plot(\"NObeyesdad\")"
   ]
  },
  {
   "cell_type": "markdown",
   "id": "3ebd3a12",
   "metadata": {
    "papermill": {
     "duration": 0.027237,
     "end_time": "2024-06-14T18:03:51.353071",
     "exception": false,
     "start_time": "2024-06-14T18:03:51.325834",
     "status": "completed"
    },
    "tags": []
   },
   "source": [
    "- We have highest number of people with **Obesity_Type III** having share of **19.5%**."
   ]
  },
  {
   "cell_type": "code",
   "execution_count": null,
   "id": "09c8fabd",
   "metadata": {},
   "outputs": [],
   "source": [
    "# Plot for Gender\n",
    "train_data.show_plot(\"Gender\")"
   ]
  },
  {
   "cell_type": "markdown",
   "id": "d9b9c076",
   "metadata": {
    "papermill": {
     "duration": 0.027805,
     "end_time": "2024-06-14T18:03:51.762458",
     "exception": false,
     "start_time": "2024-06-14T18:03:51.734653",
     "status": "completed"
    },
    "tags": []
   },
   "source": [
    "- **Gender** distribution is fairly equal in the dataset."
   ]
  },
  {
   "cell_type": "code",
   "execution_count": null,
   "id": "cd1f0d9b",
   "metadata": {},
   "outputs": [],
   "source": [
    "# Plot for FAVC\n",
    "train_data.show_plot(\"family_history_with_overweight\")"
   ]
  },
  {
   "cell_type": "markdown",
   "id": "c9245b6f",
   "metadata": {
    "papermill": {
     "duration": 0.028251,
     "end_time": "2024-06-14T18:03:52.186589",
     "exception": false,
     "start_time": "2024-06-14T18:03:52.158338",
     "status": "completed"
    },
    "tags": []
   },
   "source": [
    "- **82.0%** people have a family history with Overweight."
   ]
  },
  {
   "cell_type": "code",
   "execution_count": null,
   "id": "74d0a55c",
   "metadata": {
    "execution": {
     "iopub.execute_input": "2024-06-14T18:03:52.247852Z",
     "iopub.status.busy": "2024-06-14T18:03:52.247404Z",
     "iopub.status.idle": "2024-06-14T18:03:52.551119Z",
     "shell.execute_reply": "2024-06-14T18:03:52.549969Z"
    },
    "papermill": {
     "duration": 0.336995,
     "end_time": "2024-06-14T18:03:52.553815",
     "exception": false,
     "start_time": "2024-06-14T18:03:52.216820",
     "status": "completed"
    },
    "tags": []
   },
   "outputs": [],
   "source": [
    "train_data.show_plot(\"FAVC\")"
   ]
  },
  {
   "cell_type": "markdown",
   "id": "a5e88119",
   "metadata": {
    "papermill": {
     "duration": 0.028972,
     "end_time": "2024-06-14T18:03:52.612344",
     "exception": false,
     "start_time": "2024-06-14T18:03:52.583372",
     "status": "completed"
    },
    "tags": []
   },
   "source": [
    "- **91.4%** people **Frequently consume high caloric food**."
   ]
  },
  {
   "cell_type": "code",
   "execution_count": null,
   "id": "09d36efb",
   "metadata": {
    "execution": {
     "iopub.execute_input": "2024-06-14T18:03:52.672749Z",
     "iopub.status.busy": "2024-06-14T18:03:52.672339Z",
     "iopub.status.idle": "2024-06-14T18:03:53.046977Z",
     "shell.execute_reply": "2024-06-14T18:03:53.045819Z"
    },
    "papermill": {
     "duration": 0.408224,
     "end_time": "2024-06-14T18:03:53.049665",
     "exception": false,
     "start_time": "2024-06-14T18:03:52.641441",
     "status": "completed"
    },
    "tags": []
   },
   "outputs": [],
   "source": [
    "train_data.show_plot(\"CAEC\")"
   ]
  },
  {
   "cell_type": "markdown",
   "id": "f5ba35d2",
   "metadata": {
    "papermill": {
     "duration": 0.029478,
     "end_time": "2024-06-14T18:03:53.109116",
     "exception": false,
     "start_time": "2024-06-14T18:03:53.079638",
     "status": "completed"
    },
    "tags": []
   },
   "source": [
    "- **84.4% sometimes** consumes food between meals while ~1.5% says No meals in between."
   ]
  },
  {
   "cell_type": "code",
   "execution_count": null,
   "id": "d5edf98f",
   "metadata": {
    "execution": {
     "iopub.execute_input": "2024-06-14T18:03:53.170594Z",
     "iopub.status.busy": "2024-06-14T18:03:53.170143Z",
     "iopub.status.idle": "2024-06-14T18:03:53.474743Z",
     "shell.execute_reply": "2024-06-14T18:03:53.473552Z"
    },
    "papermill": {
     "duration": 0.338718,
     "end_time": "2024-06-14T18:03:53.477670",
     "exception": false,
     "start_time": "2024-06-14T18:03:53.138952",
     "status": "completed"
    },
    "tags": []
   },
   "outputs": [],
   "source": [
    "train_data.show_plot(\"SMOKE\")"
   ]
  },
  {
   "cell_type": "markdown",
   "id": "c76ddd7b",
   "metadata": {
    "papermill": {
     "duration": 0.031245,
     "end_time": "2024-06-14T18:03:53.540275",
     "exception": false,
     "start_time": "2024-06-14T18:03:53.509030",
     "status": "completed"
    },
    "tags": []
   },
   "source": [
    "- **98.8%** are non-Smokers. Doesn't sound correct, but let's trust the data."
   ]
  },
  {
   "cell_type": "code",
   "execution_count": null,
   "id": "76f35d53",
   "metadata": {
    "execution": {
     "iopub.execute_input": "2024-06-14T18:03:53.605809Z",
     "iopub.status.busy": "2024-06-14T18:03:53.605010Z",
     "iopub.status.idle": "2024-06-14T18:03:53.912426Z",
     "shell.execute_reply": "2024-06-14T18:03:53.911268Z"
    },
    "papermill": {
     "duration": 0.343198,
     "end_time": "2024-06-14T18:03:53.915297",
     "exception": false,
     "start_time": "2024-06-14T18:03:53.572099",
     "status": "completed"
    },
    "tags": []
   },
   "outputs": [],
   "source": [
    "train_data.show_plot(\"SCC\")"
   ]
  },
  {
   "cell_type": "markdown",
   "id": "7318d148",
   "metadata": {
    "papermill": {
     "duration": 0.030579,
     "end_time": "2024-06-14T18:03:53.976864",
     "exception": false,
     "start_time": "2024-06-14T18:03:53.946285",
     "status": "completed"
    },
    "tags": []
   },
   "source": [
    "- **96.7% don't bother** monitoring calorie consumption. \n",
    "\n",
    "(Counting calories? Only folks who don't truly appreciate the art of savoring food would do that, right? )"
   ]
  },
  {
   "cell_type": "code",
   "execution_count": null,
   "id": "aa64cd73",
   "metadata": {
    "execution": {
     "iopub.execute_input": "2024-06-14T18:03:54.042410Z",
     "iopub.status.busy": "2024-06-14T18:03:54.041953Z",
     "iopub.status.idle": "2024-06-14T18:03:54.339942Z",
     "shell.execute_reply": "2024-06-14T18:03:54.338712Z"
    },
    "papermill": {
     "duration": 0.334403,
     "end_time": "2024-06-14T18:03:54.342774",
     "exception": false,
     "start_time": "2024-06-14T18:03:54.008371",
     "status": "completed"
    },
    "tags": []
   },
   "outputs": [],
   "source": [
    "train_data.show_plot(\"CALC\")"
   ]
  },
  {
   "cell_type": "markdown",
   "id": "01a40072",
   "metadata": {
    "papermill": {
     "duration": 0.033024,
     "end_time": "2024-06-14T18:03:54.408130",
     "exception": false,
     "start_time": "2024-06-14T18:03:54.375106",
     "status": "completed"
    },
    "tags": []
   },
   "source": [
    "- **72.6%** consumes alcohol sometimes while 2.5% does Frequent.\n",
    "\n",
    "(Interesting to note that in Test dataset, we have \"Always\" as well.)"
   ]
  },
  {
   "cell_type": "code",
   "execution_count": null,
   "id": "0ca4500a",
   "metadata": {
    "execution": {
     "iopub.execute_input": "2024-06-14T18:03:54.475667Z",
     "iopub.status.busy": "2024-06-14T18:03:54.475283Z",
     "iopub.status.idle": "2024-06-14T18:03:54.859801Z",
     "shell.execute_reply": "2024-06-14T18:03:54.858632Z"
    },
    "papermill": {
     "duration": 0.421542,
     "end_time": "2024-06-14T18:03:54.862720",
     "exception": false,
     "start_time": "2024-06-14T18:03:54.441178",
     "status": "completed"
    },
    "tags": []
   },
   "outputs": [],
   "source": [
    "train_data.show_plot(\"MTRANS\")"
   ]
  },
  {
   "cell_type": "markdown",
   "id": "65c85693",
   "metadata": {
    "papermill": {
     "duration": 0.032085,
     "end_time": "2024-06-14T18:03:54.927269",
     "exception": false,
     "start_time": "2024-06-14T18:03:54.895184",
     "status": "completed"
    },
    "tags": []
   },
   "source": [
    "- **97.6%** use some form of vehicles while only **~2.4% prefers walking/using bike** That's concerning!"
   ]
  },
  {
   "cell_type": "code",
   "execution_count": null,
   "id": "4f247ecf",
   "metadata": {
    "_kg_hide-input": true,
    "execution": {
     "iopub.execute_input": "2024-06-14T18:03:54.993975Z",
     "iopub.status.busy": "2024-06-14T18:03:54.993114Z",
     "iopub.status.idle": "2024-06-14T18:03:55.005593Z",
     "shell.execute_reply": "2024-06-14T18:03:55.004431Z"
    },
    "papermill": {
     "duration": 0.048837,
     "end_time": "2024-06-14T18:03:55.008223",
     "exception": false,
     "start_time": "2024-06-14T18:03:54.959386",
     "status": "completed"
    },
    "tags": []
   },
   "outputs": [],
   "source": [
    "# Checking for distributions\n",
    "numeric_columns = df_train.select_dtypes(include=['float64', 'int64']).drop(columns=['id'], axis=1)\n",
    "def dist(train_dataset, original_dataset, columns_list, rows, cols):\n",
    "    fig, axs = plt.subplots(rows, cols, figsize=(24, 10))\n",
    "    plt.suptitle('Distribution for numerical features: Train vs Original Dataset', fontsize=16, fontweight='bold')\n",
    "    axs = axs.flatten()\n",
    "    \n",
    "    for i, col in enumerate(columns_list):\n",
    "        sns.kdeplot(train_dataset[col], ax=axs[i], fill=True, alpha=0.5, linewidth=0.5, color='#05b0a3', label='Train')\n",
    "        sns.kdeplot(original_dataset[col], ax=axs[i], fill=True, alpha=0.5, linewidth=0.5, color='#d68c78', label='Original')\n",
    "        axs[i].set_title(f'{col}, Train skewness: {train_dataset[col].skew():.2f}\\n Original skewness: {original_dataset[col].skew():.2f}')\n",
    "        axs[i].legend()\n",
    "        \n",
    "    plt.tight_layout()"
   ]
  },
  {
   "cell_type": "code",
   "execution_count": null,
   "id": "9d64e3f7",
   "metadata": {
    "execution": {
     "iopub.execute_input": "2024-06-14T18:03:55.075023Z",
     "iopub.status.busy": "2024-06-14T18:03:55.074575Z",
     "iopub.status.idle": "2024-06-14T18:04:01.178476Z",
     "shell.execute_reply": "2024-06-14T18:04:01.177134Z"
    },
    "papermill": {
     "duration": 6.144207,
     "end_time": "2024-06-14T18:04:01.184753",
     "exception": false,
     "start_time": "2024-06-14T18:03:55.040546",
     "status": "completed"
    },
    "tags": []
   },
   "outputs": [],
   "source": [
    "dist(train_dataset=df_train, original_dataset=original, columns_list=numeric_columns.columns, rows=2, cols=4)"
   ]
  },
  {
   "cell_type": "markdown",
   "id": "d546e31e",
   "metadata": {
    "papermill": {
     "duration": 0.042948,
     "end_time": "2024-06-14T18:04:01.268458",
     "exception": false,
     "start_time": "2024-06-14T18:04:01.225510",
     "status": "completed"
    },
    "tags": []
   },
   "source": [
    "-  Age, height and Weight are normally distributed with some skewness"
   ]
  },
  {
   "cell_type": "markdown",
   "id": "02f9c740",
   "metadata": {
    "papermill": {
     "duration": 0.040999,
     "end_time": "2024-06-14T18:04:01.350225",
     "exception": false,
     "start_time": "2024-06-14T18:04:01.309226",
     "status": "completed"
    },
    "tags": []
   },
   "source": [
    "**Visualizing Features with Target Variable:**"
   ]
  },
  {
   "cell_type": "code",
   "execution_count": null,
   "id": "cd5c988b",
   "metadata": {
    "_kg_hide-input": true,
    "execution": {
     "iopub.execute_input": "2024-06-14T18:04:01.435376Z",
     "iopub.status.busy": "2024-06-14T18:04:01.434822Z",
     "iopub.status.idle": "2024-06-14T18:04:04.572296Z",
     "shell.execute_reply": "2024-06-14T18:04:04.571027Z"
    },
    "papermill": {
     "duration": 3.194487,
     "end_time": "2024-06-14T18:04:04.586401",
     "exception": false,
     "start_time": "2024-06-14T18:04:01.391914",
     "status": "completed"
    },
    "tags": []
   },
   "outputs": [],
   "source": [
    "colors = ['#1f77b4', '#fc6c44', '#2b8a2b', '#fc7c7c', '#9467bd', '#4ba4ad', '#c7ad18', '#7f7f7f', '#69d108']\n",
    "fig, axes = plt.subplots(1, 3, figsize=(20, 10))\n",
    "ax1 = sns.scatterplot(x=df_train['Height'], y=df_train['Age'], hue=\"NObeyesdad\",\n",
    "                       data=df_train, palette=colors, edgecolor='grey', alpha=0.8, s=9, ax=axes[0])\n",
    "axes[0].set_title('Height vs Age')\n",
    "ax2 = sns.scatterplot(x=df_train['Height'], y=df_train['Weight'], hue=\"NObeyesdad\",\n",
    "                       data=df_train, palette=colors, edgecolor='grey', alpha=0.8, s=9, ax=axes[1])\n",
    "axes[1].set_title('Height vs Weight')\n",
    "ax3 = sns.scatterplot(x=df_train['Age'], y=df_train['Weight'], hue=\"NObeyesdad\",\n",
    "                       data=df_train, palette=colors, edgecolor='grey', alpha=0.8, s=9, ax=axes[2])\n",
    "axes[2].set_title('Age vs Weight')\n",
    "for ax in axes.flatten():\n",
    "    ax.get_legend().remove()\n",
    "handles, labels = ax1.get_legend_handles_labels()\n",
    "fig.legend(handles, labels, loc='lower center', bbox_to_anchor=(0.5, -0.1), ncol=len(df_train['NObeyesdad'].unique()),\n",
    "           title='')\n",
    "fig.suptitle('Age, Height, Weight against Target', fontsize=20)\n",
    "fig.subplots_adjust(bottom=0.5, top=0.9, hspace=0.5)\n",
    "plt.tight_layout()\n",
    "plt.show()"
   ]
  },
  {
   "cell_type": "markdown",
   "id": "793facaf",
   "metadata": {
    "papermill": {
     "duration": 0.061376,
     "end_time": "2024-06-14T18:04:04.709516",
     "exception": false,
     "start_time": "2024-06-14T18:04:04.648140",
     "status": "completed"
    },
    "tags": []
   },
   "source": [
    "- This doesn't provide much information, let's create BMI as a feature & check it individually against Target."
   ]
  },
  {
   "cell_type": "code",
   "execution_count": null,
   "id": "df13fa41",
   "metadata": {
    "_kg_hide-input": true,
    "execution": {
     "iopub.execute_input": "2024-06-14T18:04:04.835086Z",
     "iopub.status.busy": "2024-06-14T18:04:04.833879Z",
     "iopub.status.idle": "2024-06-14T18:04:05.804010Z",
     "shell.execute_reply": "2024-06-14T18:04:05.802814Z"
    },
    "papermill": {
     "duration": 1.03695,
     "end_time": "2024-06-14T18:04:05.807385",
     "exception": false,
     "start_time": "2024-06-14T18:04:04.770435",
     "status": "completed"
    },
    "tags": []
   },
   "outputs": [],
   "source": [
    "fig, axes = plt.subplots(1, 2, figsize=(16, 8))\n",
    "df_train['BMI']=  df_train['Weight'] / df_train['Height']**2\n",
    "ax1 = axes[0]\n",
    "df_sort = df_train.groupby('NObeyesdad')['BMI'].mean().sort_values(ascending=False).index\n",
    "sns.barplot(x='BMI', y='NObeyesdad', data=df_train, palette='light:#4caba4_r', order=df_sort,\n",
    "            estimator=np.mean, ci=None, errwidth=0, ax=ax1)\n",
    "for p in ax1.patches:\n",
    "    ax1.annotate(f'{p.get_width():.2f}', (p.get_x() + p.get_width() / 2., p.get_y() + p.get_height()),\n",
    "                ha='center', va='center', xytext=(0, 20), textcoords='offset points', fontsize=10, color='black')\n",
    "ax1.set_title('Mean BMI by NObeyesdad')\n",
    "ax1.set_xlabel('BMI')\n",
    "ax1.set_ylabel('')\n",
    "sns.despine(left=True, bottom=True, ax=ax1)\n",
    "\n",
    "# Violin Plot\n",
    "ax2 = axes[1]\n",
    "sns.violinplot(x='BMI', y='NObeyesdad', data=df_train, palette='light:#4caba4_r', order=df_sort, ax=ax2)\n",
    "ax2.set_title('Distribution of BMI by NObeyesdad')\n",
    "ax2.set_ylabel(\"\")\n",
    "plt.yticks([])\n",
    "sns.despine(left=True, bottom=True, ax=ax2)\n",
    "plt.tight_layout()\n",
    "plt.show()"
   ]
  },
  {
   "cell_type": "markdown",
   "id": "6c4d0fb4",
   "metadata": {
    "papermill": {
     "duration": 0.063211,
     "end_time": "2024-06-14T18:04:05.933948",
     "exception": false,
     "start_time": "2024-06-14T18:04:05.870737",
     "status": "completed"
    },
    "tags": []
   },
   "source": [
    "- It is evident from the above plot that Obesity Type III has the highest Mean BMI of 41.78 against normal weight having an mean BMI of 22.0\n",
    "- There is inconsistency in the categories wherein the BMI levels are not as these should ideally be. Let's further investigate it."
   ]
  },
  {
   "cell_type": "code",
   "execution_count": null,
   "id": "135eef6e",
   "metadata": {
    "execution": {
     "iopub.execute_input": "2024-06-14T18:04:06.062743Z",
     "iopub.status.busy": "2024-06-14T18:04:06.062323Z",
     "iopub.status.idle": "2024-06-14T18:04:06.116169Z",
     "shell.execute_reply": "2024-06-14T18:04:06.115026Z"
    },
    "papermill": {
     "duration": 0.121499,
     "end_time": "2024-06-14T18:04:06.118782",
     "exception": false,
     "start_time": "2024-06-14T18:04:05.997283",
     "status": "completed"
    },
    "tags": []
   },
   "outputs": [],
   "source": [
    "df_train.groupby('NObeyesdad')['BMI'].describe().reset_index().style.background_gradient()"
   ]
  },
  {
   "cell_type": "markdown",
   "id": "d11723e9",
   "metadata": {
    "papermill": {
     "duration": 0.064762,
     "end_time": "2024-06-14T18:04:06.248384",
     "exception": false,
     "start_time": "2024-06-14T18:04:06.183622",
     "status": "completed"
    },
    "tags": []
   },
   "source": [
    "- The BMI for each categories are inconsistent, e.g. Obesity_Type_II ranges from 24.05 to 46.22 or Obesity_Type_III ranges from 18.18 to 54.99, which is not ideal case"
   ]
  },
  {
   "cell_type": "code",
   "execution_count": null,
   "id": "9cfbcfe1",
   "metadata": {
    "_kg_hide-input": true,
    "execution": {
     "iopub.execute_input": "2024-06-14T18:04:06.381113Z",
     "iopub.status.busy": "2024-06-14T18:04:06.380663Z",
     "iopub.status.idle": "2024-06-14T18:04:07.333744Z",
     "shell.execute_reply": "2024-06-14T18:04:07.332596Z"
    },
    "papermill": {
     "duration": 1.021398,
     "end_time": "2024-06-14T18:04:07.337017",
     "exception": false,
     "start_time": "2024-06-14T18:04:06.315619",
     "status": "completed"
    },
    "tags": []
   },
   "outputs": [],
   "source": [
    "fig, axes = plt.subplots(1, 2, figsize=(16, 8))\n",
    "ax1 = axes[0]\n",
    "df_sort = df_train.groupby('NObeyesdad')['Age'].mean().sort_values(ascending=False).index\n",
    "sns.barplot(x='Age', y='NObeyesdad', data=df_train, palette='light:#4caba4_r', order=df_sort,\n",
    "            estimator=np.mean, ci=None, errwidth=0, ax=ax1)\n",
    "for p in ax1.patches:\n",
    "    ax1.annotate(f'{p.get_width():.2f}', (p.get_x() + p.get_width() / 2., p.get_y() + p.get_height()),\n",
    "                ha='center', va='center', xytext=(0, 20), textcoords='offset points', fontsize=10, color='black')\n",
    "ax1.set_title('Mean Age by NObeyesdad')\n",
    "ax1.set_xlabel('Age')\n",
    "ax1.set_ylabel('')\n",
    "sns.despine(left=True, bottom=True, ax=ax1)\n",
    "\n",
    "# Violin Plot\n",
    "ax2 = axes[1]\n",
    "sns.violinplot(x='Age', y='NObeyesdad', data=df_train, palette='light:#4caba4_r', order=df_sort, ax=ax2)\n",
    "ax2.set_title('Distribution of Age by NObeyesdad')\n",
    "ax2.set_ylabel(\"\")\n",
    "plt.yticks([])\n",
    "sns.despine(left=True, bottom=True, ax=ax2)\n",
    "plt.tight_layout()\n",
    "plt.show()"
   ]
  },
  {
   "cell_type": "markdown",
   "id": "79e2a02c",
   "metadata": {
    "papermill": {
     "duration": 0.066038,
     "end_time": "2024-06-14T18:04:07.469037",
     "exception": false,
     "start_time": "2024-06-14T18:04:07.402999",
     "status": "completed"
    },
    "tags": []
   },
   "source": [
    "- Normal Weight or Insufficient weight people seems to be yonger on an average than the rest"
   ]
  },
  {
   "cell_type": "code",
   "execution_count": null,
   "id": "fa55d825",
   "metadata": {
    "_kg_hide-input": true,
    "execution": {
     "iopub.execute_input": "2024-06-14T18:04:07.602189Z",
     "iopub.status.busy": "2024-06-14T18:04:07.601752Z",
     "iopub.status.idle": "2024-06-14T18:04:07.964339Z",
     "shell.execute_reply": "2024-06-14T18:04:07.963127Z"
    },
    "papermill": {
     "duration": 0.432317,
     "end_time": "2024-06-14T18:04:07.966991",
     "exception": false,
     "start_time": "2024-06-14T18:04:07.534674",
     "status": "completed"
    },
    "tags": []
   },
   "outputs": [],
   "source": [
    "cross_tab = pd.crosstab(df_train['NObeyesdad'], df_train['MTRANS'])\n",
    "plt.figure(figsize=(10, 5))\n",
    "sns.heatmap(cross_tab, annot=True, cmap='Blues', fmt='d', cbar=False)\n",
    "plt.title(' NObeyesdad and MTRANS')\n",
    "plt.xlabel('')\n",
    "plt.ylabel('')\n",
    "plt.show()"
   ]
  },
  {
   "cell_type": "markdown",
   "id": "fdfbf91d",
   "metadata": {
    "papermill": {
     "duration": 0.066359,
     "end_time": "2024-06-14T18:04:08.100472",
     "exception": false,
     "start_time": "2024-06-14T18:04:08.034113",
     "status": "completed"
    },
    "tags": []
   },
   "source": [
    "- Obesity_Type II or Type III people do not or rarely walk or use bike which shows lack of physical activity"
   ]
  },
  {
   "cell_type": "code",
   "execution_count": null,
   "id": "4c01af37",
   "metadata": {
    "_kg_hide-input": true,
    "execution": {
     "iopub.execute_input": "2024-06-14T18:04:08.235449Z",
     "iopub.status.busy": "2024-06-14T18:04:08.234745Z",
     "iopub.status.idle": "2024-06-14T18:04:08.627655Z",
     "shell.execute_reply": "2024-06-14T18:04:08.626268Z"
    },
    "papermill": {
     "duration": 0.463233,
     "end_time": "2024-06-14T18:04:08.630154",
     "exception": false,
     "start_time": "2024-06-14T18:04:08.166921",
     "status": "completed"
    },
    "tags": []
   },
   "outputs": [],
   "source": [
    "plt.figure(figsize=(15, 6))\n",
    "ax = sns.countplot(x='Gender', hue='NObeyesdad', data=df_train, palette=colors, dodge=True)\n",
    "plt.title('Distribution of NObeyesdad across Gender')\n",
    "sns.despine(left=True, bottom=False)\n",
    "plt.xlabel('')\n",
    "plt.ylabel('')\n",
    "plt.yticks([])\n",
    "for p in ax.patches:\n",
    "    height = p.get_height()\n",
    "    ax.annotate(f'{round(height)}', (p.get_x() + p.get_width() / 2., height),\n",
    "                ha='center', va='center', xytext=(0, 8), textcoords='offset points')\n",
    "plt.show()"
   ]
  },
  {
   "cell_type": "markdown",
   "id": "81802f68",
   "metadata": {
    "papermill": {
     "duration": 0.067348,
     "end_time": "2024-06-14T18:04:08.765475",
     "exception": false,
     "start_time": "2024-06-14T18:04:08.698127",
     "status": "completed"
    },
    "tags": []
   },
   "source": [
    "- Obesity Type II is most common among Males, while Obesity Type III is most common among Females."
   ]
  },
  {
   "cell_type": "code",
   "execution_count": null,
   "id": "95cafe55",
   "metadata": {
    "_kg_hide-input": true,
    "execution": {
     "iopub.execute_input": "2024-06-14T18:04:08.905171Z",
     "iopub.status.busy": "2024-06-14T18:04:08.904263Z",
     "iopub.status.idle": "2024-06-14T18:04:09.843216Z",
     "shell.execute_reply": "2024-06-14T18:04:09.842136Z"
    },
    "papermill": {
     "duration": 1.012725,
     "end_time": "2024-06-14T18:04:09.846019",
     "exception": false,
     "start_time": "2024-06-14T18:04:08.833294",
     "status": "completed"
    },
    "tags": []
   },
   "outputs": [],
   "source": [
    "fig, axes = plt.subplots(1, 2, figsize=(12, 5))\n",
    "df_train['BMI']=  df_train['Weight'] / df_train['Height']**2\n",
    "ax1 = axes[0]\n",
    "df_sort = df_train.groupby('Gender')['BMI'].mean().sort_values(ascending=False).index\n",
    "sns.barplot(x='BMI', y='Gender', data=df_train, palette='light:#4caba4_r', order=df_sort,\n",
    "            estimator=np.mean, ci=None, errwidth=0, ax=ax1)\n",
    "for p in ax1.patches:\n",
    "    ax1.annotate(f'{p.get_width():.2f}', (p.get_x() + p.get_width() / 2., p.get_y() + p.get_height()),\n",
    "                ha='center', va='center', xytext=(0, 50), textcoords='offset points', fontsize=10, color='black')\n",
    "ax1.set_title('Mean BMI by Gender')\n",
    "ax1.set_xlabel('BMI')\n",
    "ax1.set_ylabel('')\n",
    "sns.despine(left=True, bottom=True, ax=ax1)\n",
    "# Violin Plot\n",
    "ax2 = axes[1]\n",
    "sns.violinplot(x='BMI', y='Gender', data=df_train, palette='light:#4caba4_r', order=df_sort, ax=ax2)\n",
    "ax2.set_title('Distribution of BMI by Gender')\n",
    "ax2.set_ylabel(\"\")\n",
    "plt.yticks([])\n",
    "sns.despine(left=True, bottom=True, ax=ax2)\n",
    "plt.tight_layout()\n",
    "plt.show()"
   ]
  },
  {
   "cell_type": "markdown",
   "id": "4672bf0f",
   "metadata": {
    "papermill": {
     "duration": 0.069742,
     "end_time": "2024-06-14T18:04:09.985964",
     "exception": false,
     "start_time": "2024-06-14T18:04:09.916222",
     "status": "completed"
    },
    "tags": []
   },
   "source": [
    "- BMI is higher amongs Female as compared to male which was visible in previous plot of Obeity vs Gender Plot"
   ]
  },
  {
   "cell_type": "code",
   "execution_count": null,
   "id": "1cd37283",
   "metadata": {
    "_kg_hide-input": true,
    "execution": {
     "iopub.execute_input": "2024-06-14T18:04:10.127446Z",
     "iopub.status.busy": "2024-06-14T18:04:10.126390Z",
     "iopub.status.idle": "2024-06-14T18:04:11.108820Z",
     "shell.execute_reply": "2024-06-14T18:04:11.107635Z"
    },
    "papermill": {
     "duration": 1.056824,
     "end_time": "2024-06-14T18:04:11.112030",
     "exception": false,
     "start_time": "2024-06-14T18:04:10.055206",
     "status": "completed"
    },
    "tags": []
   },
   "outputs": [],
   "source": [
    "#Correlation heatmap\n",
    "numeric_columns_original = original.select_dtypes(include=np.number)\n",
    "numeric_columns_train = df_train.select_dtypes(include=np.number).drop(['id','BMI'], axis=1)\n",
    "# original\n",
    "corr_original = numeric_columns_original.corr(method='pearson')\n",
    "mask_original = np.triu(np.ones_like(corr_original))\n",
    "fig, axes = plt.subplots(1, 2, figsize=(20, 8))\n",
    "sns.heatmap(corr_original, annot=True, fmt='.2f', mask=mask_original, cmap='copper_r', cbar=None, linewidth=2, ax=axes[0])\n",
    "axes[0].set_title('Original Dataset', fontsize=16, fontweight='bold')\n",
    "\n",
    "# Train\n",
    "corr_train = numeric_columns_train.corr(method='pearson')\n",
    "mask_train = np.triu(np.ones_like(corr_train))\n",
    "sns.heatmap(corr_train, annot=True, fmt='.2f', mask=mask_train, cmap='copper_r', cbar=None, linewidth=2, ax=axes[1])\n",
    "axes[1].set_title('Train Dataset', fontsize=16, fontweight='bold')\n",
    "plt.tight_layout()\n",
    "plt.show()"
   ]
  },
  {
   "cell_type": "markdown",
   "id": "823a812f",
   "metadata": {
    "papermill": {
     "duration": 0.072265,
     "end_time": "2024-06-14T18:04:11.256185",
     "exception": false,
     "start_time": "2024-06-14T18:04:11.183920",
     "status": "completed"
    },
    "tags": []
   },
   "source": [
    "- Weight and Height has the highest positive correlation\n",
    "- Correlation is almost similar in both original & Train dataset"
   ]
  },
  {
   "cell_type": "code",
   "execution_count": null,
   "id": "52cd7136",
   "metadata": {
    "_kg_hide-input": true,
    "execution": {
     "iopub.execute_input": "2024-06-14T18:04:11.406995Z",
     "iopub.status.busy": "2024-06-14T18:04:11.406565Z",
     "iopub.status.idle": "2024-06-14T18:04:13.456883Z",
     "shell.execute_reply": "2024-06-14T18:04:13.455646Z"
    },
    "papermill": {
     "duration": 2.12696,
     "end_time": "2024-06-14T18:04:13.459479",
     "exception": false,
     "start_time": "2024-06-14T18:04:11.332519",
     "status": "completed"
    },
    "tags": []
   },
   "outputs": [],
   "source": [
    "#Check for presence of outliers in each feature\n",
    "numeric_columns = df_train.select_dtypes(include=['float64', 'int64']).drop(columns=['id'], axis=1)\n",
    "fig = plt.figure(figsize=[32,10])\n",
    "plt.suptitle('Outliers in the data', fontsize=18, fontweight='bold')\n",
    "fig.subplots_adjust(top=0.92);\n",
    "fig.subplots_adjust(hspace=0.5, wspace=0.4);\n",
    "for i ,col in enumerate(numeric_columns):\n",
    "    ax = fig.add_subplot(3,3, i+1);\n",
    "    ax = sns.boxplot(data = df_train, x=col ,  color= colors[i]);\n",
    "    ax.set_title(f'{col}')\n",
    "    ax.set_xlabel(f'{col}')\n",
    "    ax.grid(False)\n",
    "plt.show()"
   ]
  },
  {
   "cell_type": "markdown",
   "id": "9ab1f061",
   "metadata": {
    "papermill": {
     "duration": 0.073527,
     "end_time": "2024-06-14T18:04:13.606895",
     "exception": false,
     "start_time": "2024-06-14T18:04:13.533368",
     "status": "completed"
    },
    "tags": []
   },
   "source": [
    "- Outliers present in Age\n",
    "- Rest features do not have presence of outliers"
   ]
  },
  {
   "cell_type": "markdown",
   "id": "fe104d68",
   "metadata": {
    "papermill": {
     "duration": 0.072877,
     "end_time": "2024-06-14T18:04:13.754392",
     "exception": false,
     "start_time": "2024-06-14T18:04:13.681515",
     "status": "completed"
    },
    "tags": []
   },
   "source": [
    "<a id=\"toc\"></a>\n",
    "\n",
    "<a href=\"#toc\" style=\"background-color: #E1B12D; color: #ffffff; padding: 7px 10px; text-decoration: none; border-radius: 50px;\">Back to top</a><a id=\"toc\"></a>\n",
    "\n",
    "<a id=\"3\"></a>\n",
    "## <b>3. <span style='color:#E1B12D'>Pre-Processing</span></b> \n"
   ]
  },
  {
   "cell_type": "markdown",
   "id": "c49e3ab6",
   "metadata": {
    "papermill": {
     "duration": 0.073016,
     "end_time": "2024-06-14T18:04:13.902654",
     "exception": false,
     "start_time": "2024-06-14T18:04:13.829638",
     "status": "completed"
    },
    "tags": []
   },
   "source": [
    "The Pre-processing & Hyperparameters are taken from the notebook. Please check out the original work https://www.kaggle.com/code/moazeldsokyx/pgs4e2-highest-score-lgbm-hyperparameter-tuning/notebook"
   ]
  },
  {
   "cell_type": "code",
   "execution_count": null,
   "id": "2526df20",
   "metadata": {
    "_kg_hide-input": true,
    "execution": {
     "iopub.execute_input": "2024-06-14T18:04:14.049965Z",
     "iopub.status.busy": "2024-06-14T18:04:14.049522Z",
     "iopub.status.idle": "2024-06-14T18:04:14.181646Z",
     "shell.execute_reply": "2024-06-14T18:04:14.180498Z"
    },
    "papermill": {
     "duration": 0.209213,
     "end_time": "2024-06-14T18:04:14.184451",
     "exception": false,
     "start_time": "2024-06-14T18:04:13.975238",
     "status": "completed"
    },
    "tags": []
   },
   "outputs": [],
   "source": [
    "#Loading the dataset again to revert previously made changed on BMI etc.\n",
    "df_train = pd.read_csv('/kaggle/input/playground-series-s4e2/train.csv')\n",
    "original = pd.read_csv('/kaggle/input/obesity-or-cvd-risk-classifyregressorcluster/ObesityDataSet.csv')\n",
    "df_test = pd.read_csv('/kaggle/input/playground-series-s4e2/test.csv')"
   ]
  },
  {
   "cell_type": "code",
   "execution_count": null,
   "id": "97b0da1e",
   "metadata": {
    "_kg_hide-input": true,
    "_kg_hide-output": true,
    "execution": {
     "iopub.execute_input": "2024-06-14T18:04:14.332584Z",
     "iopub.status.busy": "2024-06-14T18:04:14.331703Z",
     "iopub.status.idle": "2024-06-14T18:04:14.340237Z",
     "shell.execute_reply": "2024-06-14T18:04:14.339115Z"
    },
    "papermill": {
     "duration": 0.085994,
     "end_time": "2024-06-14T18:04:14.342795",
     "exception": false,
     "start_time": "2024-06-14T18:04:14.256801",
     "status": "completed"
    },
    "tags": []
   },
   "outputs": [],
   "source": [
    "def get_variable_types(dataframe):\n",
    "    continuous_vars = []\n",
    "    categorical_vars = []\n",
    "\n",
    "    for column in dataframe.columns:\n",
    "        if dataframe[column].dtype == 'object':\n",
    "            categorical_vars.append(column)\n",
    "        else:\n",
    "            continuous_vars.append(column)\n",
    "\n",
    "    return continuous_vars, categorical_vars\n",
    "\n",
    "continuous_vars, categorical_vars = get_variable_types(df_train)\n",
    "categorical_vars.remove('NObeyesdad')"
   ]
  },
  {
   "cell_type": "code",
   "execution_count": null,
   "id": "a190c208",
   "metadata": {
    "execution": {
     "iopub.execute_input": "2024-06-14T18:04:14.492301Z",
     "iopub.status.busy": "2024-06-14T18:04:14.491854Z",
     "iopub.status.idle": "2024-06-14T18:04:14.541862Z",
     "shell.execute_reply": "2024-06-14T18:04:14.540692Z"
    },
    "papermill": {
     "duration": 0.127807,
     "end_time": "2024-06-14T18:04:14.544958",
     "exception": false,
     "start_time": "2024-06-14T18:04:14.417151",
     "status": "completed"
    },
    "tags": []
   },
   "outputs": [],
   "source": [
    "train = pd.concat([df_train, original]).drop(['id'], axis=1).drop_duplicates()\n",
    "test = df_test.drop(['id'], axis=1)"
   ]
  },
  {
   "cell_type": "code",
   "execution_count": null,
   "id": "ff848261",
   "metadata": {
    "execution": {
     "iopub.execute_input": "2024-06-14T18:04:14.691788Z",
     "iopub.status.busy": "2024-06-14T18:04:14.691347Z",
     "iopub.status.idle": "2024-06-14T18:04:14.754709Z",
     "shell.execute_reply": "2024-06-14T18:04:14.753577Z"
    },
    "papermill": {
     "duration": 0.140273,
     "end_time": "2024-06-14T18:04:14.757623",
     "exception": false,
     "start_time": "2024-06-14T18:04:14.617350",
     "status": "completed"
    },
    "tags": []
   },
   "outputs": [],
   "source": [
    "train = pd.get_dummies(train, columns=categorical_vars, drop_first=True)\n",
    "test = pd.get_dummies(test, columns=categorical_vars, drop_first=True)"
   ]
  },
  {
   "cell_type": "code",
   "execution_count": null,
   "id": "0b7ba079",
   "metadata": {
    "execution": {
     "iopub.execute_input": "2024-06-14T18:04:14.906688Z",
     "iopub.status.busy": "2024-06-14T18:04:14.906265Z",
     "iopub.status.idle": "2024-06-14T18:04:14.912791Z",
     "shell.execute_reply": "2024-06-14T18:04:14.911459Z"
    },
    "papermill": {
     "duration": 0.084938,
     "end_time": "2024-06-14T18:04:14.916173",
     "exception": false,
     "start_time": "2024-06-14T18:04:14.831235",
     "status": "completed"
    },
    "tags": []
   },
   "outputs": [],
   "source": [
    "#Let's check the Shape of data\n",
    "print(f'The encoded Train dataset has {train.shape[0]} rows and {train.shape[1]} columns')\n",
    "print(f'The encoded Test dataset has {test.shape[0]} rows and {test.shape[1]} columns')"
   ]
  },
  {
   "cell_type": "code",
   "execution_count": null,
   "id": "9d63f5cc",
   "metadata": {
    "execution": {
     "iopub.execute_input": "2024-06-14T18:04:15.063536Z",
     "iopub.status.busy": "2024-06-14T18:04:15.063116Z",
     "iopub.status.idle": "2024-06-14T18:04:15.071183Z",
     "shell.execute_reply": "2024-06-14T18:04:15.070125Z"
    },
    "papermill": {
     "duration": 0.084915,
     "end_time": "2024-06-14T18:04:15.073696",
     "exception": false,
     "start_time": "2024-06-14T18:04:14.988781",
     "status": "completed"
    },
    "tags": []
   },
   "outputs": [],
   "source": [
    "X = train.drop(['NObeyesdad'], axis=1)\n",
    "y = train['NObeyesdad']"
   ]
  },
  {
   "cell_type": "code",
   "execution_count": null,
   "id": "d09e6e30",
   "metadata": {
    "execution": {
     "iopub.execute_input": "2024-06-14T18:04:15.221272Z",
     "iopub.status.busy": "2024-06-14T18:04:15.220842Z",
     "iopub.status.idle": "2024-06-14T18:04:15.227791Z",
     "shell.execute_reply": "2024-06-14T18:04:15.226650Z"
    },
    "papermill": {
     "duration": 0.084668,
     "end_time": "2024-06-14T18:04:15.230628",
     "exception": false,
     "start_time": "2024-06-14T18:04:15.145960",
     "status": "completed"
    },
    "tags": []
   },
   "outputs": [],
   "source": [
    "X.shape"
   ]
  },
  {
   "cell_type": "code",
   "execution_count": null,
   "id": "923b0fb1",
   "metadata": {
    "execution": {
     "iopub.execute_input": "2024-06-14T18:04:15.379349Z",
     "iopub.status.busy": "2024-06-14T18:04:15.378917Z",
     "iopub.status.idle": "2024-06-14T18:04:15.393278Z",
     "shell.execute_reply": "2024-06-14T18:04:15.392152Z"
    },
    "papermill": {
     "duration": 0.090988,
     "end_time": "2024-06-14T18:04:15.395976",
     "exception": false,
     "start_time": "2024-06-14T18:04:15.304988",
     "status": "completed"
    },
    "tags": []
   },
   "outputs": [],
   "source": [
    "# Splitting the dataset into the Training set and Test set\n",
    "from sklearn.model_selection import train_test_split\n",
    "X_train, X_test, y_train, y_test = train_test_split(X, y, test_size = 0.2, random_state = 42)"
   ]
  },
  {
   "cell_type": "code",
   "execution_count": null,
   "id": "fb57bcc5",
   "metadata": {
    "_kg_hide-input": true,
    "execution": {
     "iopub.execute_input": "2024-06-14T18:04:15.546515Z",
     "iopub.status.busy": "2024-06-14T18:04:15.545357Z",
     "iopub.status.idle": "2024-06-14T18:04:15.550781Z",
     "shell.execute_reply": "2024-06-14T18:04:15.549595Z"
    },
    "papermill": {
     "duration": 0.084513,
     "end_time": "2024-06-14T18:04:15.553428",
     "exception": false,
     "start_time": "2024-06-14T18:04:15.468915",
     "status": "completed"
    },
    "tags": []
   },
   "outputs": [],
   "source": [
    "# Feature Scaling\n",
    "# from sklearn.preprocessing import StandardScaler\n",
    "# sc = StandardScaler()\n",
    "# X_train = sc.fit_transform(X_train)\n",
    "# X_test = sc.transform(X_test)"
   ]
  },
  {
   "cell_type": "markdown",
   "id": "f8cb810d",
   "metadata": {
    "papermill": {
     "duration": 0.073924,
     "end_time": "2024-06-14T18:04:15.700646",
     "exception": false,
     "start_time": "2024-06-14T18:04:15.626722",
     "status": "completed"
    },
    "tags": []
   },
   "source": [
    "<a id=\"toc\"></a>\n",
    "\n",
    "<a href=\"#toc\" style=\"background-color: #E1B12D; color: #ffffff; padding: 7px 10px; text-decoration: none; border-radius: 50px;\">Back to top</a><a id=\"toc\"></a>\n",
    "\n",
    "<a id=\"4\"></a>\n",
    "## <b>4. <span style='color:#E1B12D'>Model Building</span></b> \n"
   ]
  },
  {
   "cell_type": "markdown",
   "id": "6c7ce442",
   "metadata": {
    "papermill": {
     "duration": 0.073769,
     "end_time": "2024-06-14T18:04:15.848413",
     "exception": false,
     "start_time": "2024-06-14T18:04:15.774644",
     "status": "completed"
    },
    "tags": []
   },
   "source": [
    "**Hyperparameters for LGBMClassifier using Optuna**"
   ]
  },
  {
   "cell_type": "code",
   "execution_count": null,
   "id": "dd273070",
   "metadata": {
    "_kg_hide-input": true,
    "_kg_hide-output": true,
    "execution": {
     "iopub.execute_input": "2024-06-14T18:04:15.997637Z",
     "iopub.status.busy": "2024-06-14T18:04:15.997134Z",
     "iopub.status.idle": "2024-06-14T18:04:16.003778Z",
     "shell.execute_reply": "2024-06-14T18:04:16.002555Z"
    },
    "papermill": {
     "duration": 0.08484,
     "end_time": "2024-06-14T18:04:16.006456",
     "exception": false,
     "start_time": "2024-06-14T18:04:15.921616",
     "status": "completed"
    },
    "tags": []
   },
   "outputs": [],
   "source": [
    "\n",
    "# # Define the objective function for Optuna optimization\n",
    "# import optuna\n",
    "# from optuna.samplers import TPESampler\n",
    "\n",
    "# def objective(trial, X_train, y_train, X_test, y_test):\n",
    "#      # Define parameters to be optimized for the LGBMClassifier\n",
    "#      param = {\n",
    "#          \"objective\": \"multiclass\",\n",
    "#          \"metric\": \"multi_logloss\",\n",
    "#          \"verbosity\": -1,\n",
    "#          \"boosting_type\": \"gbdt\",\n",
    "#          \"random_state\": 42,\n",
    "#          \"num_class\": 7,\n",
    "#          \"learning_rate\": trial.suggest_float(\"learning_rate\", 0.001, 0.2),\n",
    "#          \"n_estimators\": trial.suggest_int(\"n_estimators\", 100, 1000),\n",
    "#          \"lambda_l1\": trial.suggest_float(\"lambda_l1\", 0.005, 0.015),\n",
    "#          \"lambda_l2\": trial.suggest_float(\"lambda_l2\", 0.02, 0.06),\n",
    "#          \"max_depth\": trial.suggest_int(\"max_depth\", 5, 20),\n",
    "#          \"colsample_bytree\": trial.suggest_float(\"colsample_bytree\", 0.3, 0.9),\n",
    "#          \"subsample\": trial.suggest_float(\"subsample\", 0.8, 1.0),\n",
    "#          \"min_child_samples\": trial.suggest_int(\"min_child_samples\", 5, 50),\n",
    "#      }\n",
    "\n",
    "#  # LGBMClassifier with the suggested parameters\n",
    "#      lgbm_classifier = LGBMClassifier(**param)\n",
    "    \n",
    "# # Fit \n",
    "#      lgbm_classifier.fit(X_train, y_train)\n",
    "\n",
    "# # Evaluate\n",
    "#      score = lgbm_classifier.score(X_test, y_test, )\n",
    "\n",
    "#      return score\n",
    "\n",
    "# # Train Test split\n",
    "# X_train, X_test, y_train, y_test = train_test_split(X, y, test_size=0.2, random_state=42) \n",
    "\n",
    "# #sampler for Optuna optimization\n",
    "# sampler = optuna.samplers.TPESampler(seed=42)  # Using Tree-structured Parzen Estimator sampler for optimization\n",
    "\n",
    "# # Create a study object\n",
    "# study = optuna.create_study(direction=\"maximize\", sampler=sampler)\n",
    "\n",
    "# # Run the optimization process\n",
    "# study.optimize(lambda trial: objective(trial, X_train, y_train, X_test, y_test), n_trials=50)\n",
    "\n",
    "# # best parameters after optimization\n",
    "# best_params = study.best_params\n",
    "\n",
    "# print('='*50)\n",
    "# print(best_params)"
   ]
  },
  {
   "cell_type": "code",
   "execution_count": null,
   "id": "0ecea6ab",
   "metadata": {
    "execution": {
     "iopub.execute_input": "2024-06-14T18:04:16.153161Z",
     "iopub.status.busy": "2024-06-14T18:04:16.152731Z",
     "iopub.status.idle": "2024-06-14T18:04:16.160179Z",
     "shell.execute_reply": "2024-06-14T18:04:16.159066Z"
    },
    "papermill": {
     "duration": 0.083877,
     "end_time": "2024-06-14T18:04:16.162599",
     "exception": false,
     "start_time": "2024-06-14T18:04:16.078722",
     "status": "completed"
    },
    "tags": []
   },
   "outputs": [],
   "source": [
    "# Best parameters obtained from Optuna optimization from notebook in comments\n",
    "# https://www.kaggle.com/code/moazeldsokyx/pgs4e2-highest-score-lgbm-hyperparameter-tuning/notebook\n",
    "\n",
    "best_params = {\n",
    "    \"objective\": \"multiclass\",          # Objective function for the model\n",
    "    \"metric\": \"multi_logloss\",          # Evaluation metric\n",
    "    \"verbosity\": -1,                    # Verbosity level (-1 for silent)\n",
    "    \"boosting_type\": \"gbdt\",            # Gradient boosting type\n",
    "    \"random_state\": 42,       # Random state for reproducibility\n",
    "    \"num_class\": 7,                     # Number of classes in the dataset\n",
    "    'learning_rate': 0.01197852738297134,  # Learning rate for gradient boosting\n",
    "    'n_estimators': 509,                # Number of boosting iterations\n",
    "    'lambda_l1': 0.009715116714365275,  # L1 regularization term\n",
    "    'lambda_l2': 0.03853395161282091,   # L2 regularization term\n",
    "    'max_depth': 11,                    # Maximum depth of the trees\n",
    "    'colsample_bytree': 0.7364306508830604,  # Fraction of features to consider for each tree\n",
    "    'subsample': 0.9529973839959326,    # Fraction of samples to consider for each boosting iteration\n",
    "    'min_child_samples': 17             # Minimum number of data needed in a leaf\n",
    "}"
   ]
  },
  {
   "cell_type": "markdown",
   "id": "c0cfcddf",
   "metadata": {
    "papermill": {
     "duration": 0.074609,
     "end_time": "2024-06-14T18:04:16.309626",
     "exception": false,
     "start_time": "2024-06-14T18:04:16.235017",
     "status": "completed"
    },
    "tags": []
   },
   "source": [
    "**LGBMClassifier with the best parameters**"
   ]
  },
  {
   "cell_type": "code",
   "execution_count": null,
   "id": "aa5f0b25",
   "metadata": {
    "execution": {
     "iopub.execute_input": "2024-06-14T18:04:16.463642Z",
     "iopub.status.busy": "2024-06-14T18:04:16.463242Z",
     "iopub.status.idle": "2024-06-14T18:04:34.601700Z",
     "shell.execute_reply": "2024-06-14T18:04:34.600299Z"
    },
    "papermill": {
     "duration": 18.219019,
     "end_time": "2024-06-14T18:04:34.604647",
     "exception": false,
     "start_time": "2024-06-14T18:04:16.385628",
     "status": "completed"
    },
    "tags": []
   },
   "outputs": [],
   "source": [
    "lgbm_classifier = LGBMClassifier(**best_params)\n",
    "lgbm_classifier.fit(X_train, y_train)\n",
    "y_pred = lgbm_classifier.predict(X_test)"
   ]
  },
  {
   "cell_type": "code",
   "execution_count": null,
   "id": "ed88fd02",
   "metadata": {
    "execution": {
     "iopub.execute_input": "2024-06-14T18:04:34.753723Z",
     "iopub.status.busy": "2024-06-14T18:04:34.753262Z",
     "iopub.status.idle": "2024-06-14T18:04:34.773738Z",
     "shell.execute_reply": "2024-06-14T18:04:34.772585Z"
    },
    "papermill": {
     "duration": 0.097742,
     "end_time": "2024-06-14T18:04:34.776296",
     "exception": false,
     "start_time": "2024-06-14T18:04:34.678554",
     "status": "completed"
    },
    "tags": []
   },
   "outputs": [],
   "source": [
    "accuracy_score(y_test, y_pred) "
   ]
  },
  {
   "cell_type": "code",
   "execution_count": null,
   "id": "3c38e5e9",
   "metadata": {
    "execution": {
     "iopub.execute_input": "2024-06-14T18:04:34.926447Z",
     "iopub.status.busy": "2024-06-14T18:04:34.926026Z",
     "iopub.status.idle": "2024-06-14T18:04:35.170762Z",
     "shell.execute_reply": "2024-06-14T18:04:35.169305Z"
    },
    "papermill": {
     "duration": 0.322882,
     "end_time": "2024-06-14T18:04:35.173367",
     "exception": false,
     "start_time": "2024-06-14T18:04:34.850485",
     "status": "completed"
    },
    "tags": []
   },
   "outputs": [],
   "source": [
    "from sklearn.metrics import confusion_matrix, classification_report\n",
    "print(classification_report(y_test, y_pred))"
   ]
  },
  {
   "cell_type": "code",
   "execution_count": null,
   "id": "7035ae21",
   "metadata": {
    "execution": {
     "iopub.execute_input": "2024-06-14T18:04:35.323619Z",
     "iopub.status.busy": "2024-06-14T18:04:35.322865Z",
     "iopub.status.idle": "2024-06-14T18:04:35.678630Z",
     "shell.execute_reply": "2024-06-14T18:04:35.677456Z"
    },
    "papermill": {
     "duration": 0.433806,
     "end_time": "2024-06-14T18:04:35.681030",
     "exception": false,
     "start_time": "2024-06-14T18:04:35.247224",
     "status": "completed"
    },
    "tags": []
   },
   "outputs": [],
   "source": [
    "# Confusion matrix\n",
    "from sklearn.metrics import confusion_matrix, classification_report\n",
    "from lightgbm import LGBMClassifier, plot_importance\n",
    "plt.figure(figsize=(15, 6))\n",
    "conf_matrix = confusion_matrix(y_test, y_pred)\n",
    "conf_labels = [f'{i}' for i in range(conf_matrix.shape[0])]\n",
    "conf_matrix_df = pd.DataFrame(conf_matrix, columns=conf_labels, index=conf_labels)\n",
    "plt.imshow(conf_matrix, interpolation='nearest', cmap=plt.cm.Blues)\n",
    "plt.xticks(np.arange(conf_matrix.shape[0]), conf_labels, rotation=45)\n",
    "plt.yticks(np.arange(conf_matrix.shape[0]), conf_labels)\n",
    "plt.xlabel('Predicted Label')\n",
    "plt.ylabel('True Label')\n",
    "for i in range(conf_matrix.shape[0]):\n",
    "    for j in range(conf_matrix.shape[1]):\n",
    "        plt.text(j, i, str(conf_matrix[i, j]), ha='center', va='center', color='black')\n",
    "plt.grid(False)\n",
    "plt.show()"
   ]
  },
  {
   "cell_type": "code",
   "execution_count": null,
   "id": "50a733ba",
   "metadata": {
    "execution": {
     "iopub.execute_input": "2024-06-14T18:04:35.834271Z",
     "iopub.status.busy": "2024-06-14T18:04:35.833791Z",
     "iopub.status.idle": "2024-06-14T18:04:36.345190Z",
     "shell.execute_reply": "2024-06-14T18:04:36.344029Z"
    },
    "papermill": {
     "duration": 0.59217,
     "end_time": "2024-06-14T18:04:36.347831",
     "exception": false,
     "start_time": "2024-06-14T18:04:35.755661",
     "status": "completed"
    },
    "tags": []
   },
   "outputs": [],
   "source": [
    "# feature importances\n",
    "feature_importance = lgbm_classifier.feature_importances_\n",
    "feature_importance_df = pd.DataFrame({'Feature': X.columns, 'Importance': feature_importance})\n",
    "feature_importance_df = feature_importance_df.sort_values(by='Importance', ascending=False)\n",
    "plt.figure(figsize=(12, 10))\n",
    "sns.barplot(x='Importance', y='Feature', data=feature_importance_df)\n",
    "plt.title('Feature Importance')\n",
    "plt.xlabel('Importance')\n",
    "plt.ylabel('')\n",
    "sns.despine(left=True, bottom=True)\n",
    "plt.show()"
   ]
  },
  {
   "cell_type": "markdown",
   "id": "24feca0a",
   "metadata": {
    "papermill": {
     "duration": 0.076695,
     "end_time": "2024-06-14T18:04:36.502914",
     "exception": false,
     "start_time": "2024-06-14T18:04:36.426219",
     "status": "completed"
    },
    "tags": []
   },
   "source": [
    "- Weight, Height, Age and FAF appear to be the most important features.\n",
    "- CH20, Time using technology devices (TUE), and NCP are the other key important features."
   ]
  },
  {
   "cell_type": "markdown",
   "id": "fe2d4ae2",
   "metadata": {
    "papermill": {
     "duration": 0.076245,
     "end_time": "2024-06-14T18:04:36.655492",
     "exception": false,
     "start_time": "2024-06-14T18:04:36.579247",
     "status": "completed"
    },
    "tags": []
   },
   "source": [
    "<a id=\"toc\"></a>\n",
    "\n",
    "<a href=\"#toc\" style=\"background-color: #E1B12D; color: #ffffff; padding: 7px 10px; text-decoration: none; border-radius: 50px;\">Back to top</a><a id=\"toc\"></a>\n",
    "\n",
    "<a id=\"5\"></a>\n",
    "## <b>5. <span style='color:#E1B12D'>Prediction on Test data</span></b> \n"
   ]
  },
  {
   "cell_type": "code",
   "execution_count": null,
   "id": "bb523441",
   "metadata": {
    "execution": {
     "iopub.execute_input": "2024-06-14T18:04:36.811430Z",
     "iopub.status.busy": "2024-06-14T18:04:36.810602Z",
     "iopub.status.idle": "2024-06-14T18:04:41.567236Z",
     "shell.execute_reply": "2024-06-14T18:04:41.565994Z"
    },
    "papermill": {
     "duration": 4.837284,
     "end_time": "2024-06-14T18:04:41.570020",
     "exception": false,
     "start_time": "2024-06-14T18:04:36.732736",
     "status": "completed"
    },
    "tags": []
   },
   "outputs": [],
   "source": [
    "# Evaluate the best model on the test set\n",
    "predictions = lgbm_classifier.predict(test)"
   ]
  },
  {
   "cell_type": "markdown",
   "id": "9cafd1f0",
   "metadata": {
    "papermill": {
     "duration": 0.075165,
     "end_time": "2024-06-14T18:04:41.722773",
     "exception": false,
     "start_time": "2024-06-14T18:04:41.647608",
     "status": "completed"
    },
    "tags": []
   },
   "source": [
    "**Final Submission**"
   ]
  },
  {
   "cell_type": "code",
   "execution_count": null,
   "id": "576b855e",
   "metadata": {
    "execution": {
     "iopub.execute_input": "2024-06-14T18:04:41.877011Z",
     "iopub.status.busy": "2024-06-14T18:04:41.875710Z",
     "iopub.status.idle": "2024-06-14T18:04:41.933467Z",
     "shell.execute_reply": "2024-06-14T18:04:41.932120Z"
    },
    "papermill": {
     "duration": 0.137308,
     "end_time": "2024-06-14T18:04:41.935991",
     "exception": false,
     "start_time": "2024-06-14T18:04:41.798683",
     "status": "completed"
    },
    "tags": []
   },
   "outputs": [],
   "source": [
    "submission = pd.read_csv(\"/kaggle/input/playground-series-s4e2/sample_submission.csv\")\n",
    "submission[\"NObeyesdad\"] = predictions\n",
    "submission.to_csv(\"submission1.csv\", index=False)\n",
    "submission.head()"
   ]
  }
 ],
 "metadata": {
  "kaggle": {
   "accelerator": "none",
   "dataSources": [
    {
     "databundleVersionId": 7609535,
     "sourceId": 68479,
     "sourceType": "competition"
    },
    {
     "datasetId": 4030196,
     "sourceId": 7009925,
     "sourceType": "datasetVersion"
    }
   ],
   "dockerImageVersionId": 30646,
   "isGpuEnabled": false,
   "isInternetEnabled": true,
   "language": "python",
   "sourceType": "notebook"
  },
  "kernelspec": {
   "display_name": "Python 3",
   "language": "python",
   "name": "python3"
  },
  "language_info": {
   "codemirror_mode": {
    "name": "ipython",
    "version": 3
   },
   "file_extension": ".py",
   "mimetype": "text/x-python",
   "name": "python",
   "nbconvert_exporter": "python",
   "pygments_lexer": "ipython3",
   "version": "3.11.4"
  },
  "papermill": {
   "default_parameters": {},
   "duration": 80.474149,
   "end_time": "2024-06-14T18:04:43.242457",
   "environment_variables": {},
   "exception": null,
   "input_path": "__notebook__.ipynb",
   "output_path": "__notebook__.ipynb",
   "parameters": {},
   "start_time": "2024-06-14T18:03:22.768308",
   "version": "2.5.0"
  }
 },
 "nbformat": 4,
 "nbformat_minor": 5
}
