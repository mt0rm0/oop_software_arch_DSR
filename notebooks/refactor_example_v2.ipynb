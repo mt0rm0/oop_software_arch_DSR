{
 "cells": [
  {
   "cell_type": "markdown",
   "id": "2e21a7cb",
   "metadata": {},
   "source": [
    "# Refactoring Example - Step 2: Packing in a class"
   ]
  },
  {
   "cell_type": "markdown",
   "id": "1f60e7e3",
   "metadata": {},
   "source": [
    "```mermaid\n",
    "flowchart TD\n",
    "    A[Start Pipeline] --> B[Load Data]\n",
    "    B --> C[Validate Schema]\n",
    "\n",
    "    C --> D[Clean Data]\n",
    "    \n",
    "    D --> F[Transform Data]\n",
    "    \n",
    "    F --> G[Write to Database]\n",
    "\n",
    "    G --> H[End Pipeline]\n",
    "```"
   ]
  },
  {
   "cell_type": "code",
   "execution_count": null,
   "id": "29425b38",
   "metadata": {
    "vscode": {
     "languageId": "plaintext"
    }
   },
   "outputs": [],
   "source": []
  }
 ],
 "metadata": {
  "language_info": {
   "name": "python"
  }
 },
 "nbformat": 4,
 "nbformat_minor": 5
}
